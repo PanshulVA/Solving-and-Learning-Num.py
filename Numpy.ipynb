{
 "cells": [
  {
   "cell_type": "code",
   "execution_count": 183,
   "id": "df3089f9",
   "metadata": {},
   "outputs": [],
   "source": [
    "import numpy as np\n",
    "import warnings\n",
    "warnings.filterwarnings(\"ignore\")\n",
    "from IPython.display import Image"
   ]
  },
  {
   "cell_type": "code",
   "execution_count": 184,
   "id": "59f10e09",
   "metadata": {},
   "outputs": [
    {
     "data": {
      "text/plain": [
       "[28, 57, 40, 22]"
      ]
     },
     "execution_count": 184,
     "metadata": {},
     "output_type": "execute_result"
    }
   ],
   "source": [
    "list1=[28,57,40,22]\n",
    "list1"
   ]
  },
  {
   "cell_type": "code",
   "execution_count": 185,
   "id": "cd7ec19f",
   "metadata": {},
   "outputs": [
    {
     "data": {
      "text/plain": [
       "list"
      ]
     },
     "execution_count": 185,
     "metadata": {},
     "output_type": "execute_result"
    }
   ],
   "source": [
    "type(list1)"
   ]
  },
  {
   "cell_type": "code",
   "execution_count": 186,
   "id": "e325348c",
   "metadata": {},
   "outputs": [
    {
     "data": {
      "text/plain": [
       "array([28, 57, 40, 22])"
      ]
     },
     "execution_count": 186,
     "metadata": {},
     "output_type": "execute_result"
    }
   ],
   "source": [
    "arr1=np.array(list1)\n",
    "arr1"
   ]
  },
  {
   "cell_type": "code",
   "execution_count": 187,
   "id": "9f63786b",
   "metadata": {},
   "outputs": [
    {
     "data": {
      "text/plain": [
       "<memory at 0x7fb3bf6004c0>"
      ]
     },
     "execution_count": 187,
     "metadata": {},
     "output_type": "execute_result"
    }
   ],
   "source": [
    "arr1.data"
   ]
  },
  {
   "cell_type": "code",
   "execution_count": 188,
   "id": "c05bad95",
   "metadata": {},
   "outputs": [
    {
     "data": {
      "text/plain": [
       "numpy.ndarray"
      ]
     },
     "execution_count": 188,
     "metadata": {},
     "output_type": "execute_result"
    }
   ],
   "source": [
    "type(arr1)"
   ]
  },
  {
   "cell_type": "code",
   "execution_count": 189,
   "id": "5e3c3293",
   "metadata": {},
   "outputs": [
    {
     "data": {
      "text/plain": [
       "dtype('int64')"
      ]
     },
     "execution_count": 189,
     "metadata": {},
     "output_type": "execute_result"
    }
   ],
   "source": [
    "arr1.dtype"
   ]
  },
  {
   "cell_type": "code",
   "execution_count": 190,
   "id": "c1a5375a",
   "metadata": {},
   "outputs": [
    {
     "data": {
      "text/plain": [
       "array([28., 57., 40., 22.])"
      ]
     },
     "execution_count": 190,
     "metadata": {},
     "output_type": "execute_result"
    }
   ],
   "source": [
    "arr1.astype(float)"
   ]
  },
  {
   "cell_type": "code",
   "execution_count": 191,
   "id": "7729de0b",
   "metadata": {},
   "outputs": [
    {
     "data": {
      "text/plain": [
       "array([0, 1, 2, 3, 4, 5, 6, 7, 8, 9])"
      ]
     },
     "execution_count": 191,
     "metadata": {},
     "output_type": "execute_result"
    }
   ],
   "source": [
    "np.arange(0,10)"
   ]
  },
  {
   "cell_type": "code",
   "execution_count": 192,
   "id": "02bfd813",
   "metadata": {},
   "outputs": [
    {
     "data": {
      "text/plain": [
       "array([ 0, 10, 20, 30, 40, 50, 60, 70, 80, 90])"
      ]
     },
     "execution_count": 192,
     "metadata": {},
     "output_type": "execute_result"
    }
   ],
   "source": [
    "np.arange(0,100 ,10)"
   ]
  },
  {
   "cell_type": "code",
   "execution_count": 193,
   "id": "4216a297",
   "metadata": {},
   "outputs": [
    {
     "data": {
      "text/plain": [
       "array([100,  90,  80,  70,  60,  50,  40,  30,  20,  10])"
      ]
     },
     "execution_count": 193,
     "metadata": {},
     "output_type": "execute_result"
    }
   ],
   "source": [
    "np.arange(100,0 ,-10)"
   ]
  },
  {
   "cell_type": "code",
   "execution_count": 194,
   "id": "26a1e6a2",
   "metadata": {},
   "outputs": [
    {
     "data": {
      "text/plain": [
       "(10,)"
      ]
     },
     "execution_count": 194,
     "metadata": {},
     "output_type": "execute_result"
    }
   ],
   "source": [
    "arr3=np.arange(1,11)\n",
    "arr3.shape"
   ]
  },
  {
   "cell_type": "code",
   "execution_count": 195,
   "id": "7c3589ab",
   "metadata": {},
   "outputs": [
    {
     "data": {
      "text/plain": [
       "array([ 1,  2,  3,  4,  5,  6,  7,  8,  9, 10])"
      ]
     },
     "execution_count": 195,
     "metadata": {},
     "output_type": "execute_result"
    }
   ],
   "source": [
    "arr3"
   ]
  },
  {
   "cell_type": "code",
   "execution_count": 196,
   "id": "200428ef",
   "metadata": {},
   "outputs": [
    {
     "data": {
      "text/plain": [
       "10"
      ]
     },
     "execution_count": 196,
     "metadata": {},
     "output_type": "execute_result"
    }
   ],
   "source": [
    "arr3.size"
   ]
  },
  {
   "cell_type": "code",
   "execution_count": 197,
   "id": "deb6330a",
   "metadata": {},
   "outputs": [
    {
     "data": {
      "text/plain": [
       "1"
      ]
     },
     "execution_count": 197,
     "metadata": {},
     "output_type": "execute_result"
    }
   ],
   "source": [
    "arr3.ndim"
   ]
  },
  {
   "cell_type": "code",
   "execution_count": 198,
   "id": "bdb60151",
   "metadata": {},
   "outputs": [
    {
     "data": {
      "text/plain": [
       "dtype('int64')"
      ]
     },
     "execution_count": 198,
     "metadata": {},
     "output_type": "execute_result"
    }
   ],
   "source": [
    "arr3.dtype"
   ]
  },
  {
   "cell_type": "code",
   "execution_count": 199,
   "id": "40f543bc",
   "metadata": {},
   "outputs": [
    {
     "data": {
      "text/plain": [
       "8"
      ]
     },
     "execution_count": 199,
     "metadata": {},
     "output_type": "execute_result"
    }
   ],
   "source": [
    "arr3.itemsize"
   ]
  },
  {
   "cell_type": "code",
   "execution_count": 200,
   "id": "f8956e22",
   "metadata": {},
   "outputs": [
    {
     "data": {
      "text/plain": [
       "80"
      ]
     },
     "execution_count": 200,
     "metadata": {},
     "output_type": "execute_result"
    }
   ],
   "source": [
    "arr3.nbytes"
   ]
  },
  {
   "cell_type": "code",
   "execution_count": 201,
   "id": "7a64f9a1",
   "metadata": {},
   "outputs": [
    {
     "data": {
      "text/plain": [
       "10"
      ]
     },
     "execution_count": 201,
     "metadata": {},
     "output_type": "execute_result"
    }
   ],
   "source": [
    "len(arr3)"
   ]
  },
  {
   "cell_type": "code",
   "execution_count": 202,
   "id": "87a54cb7",
   "metadata": {},
   "outputs": [
    {
     "data": {
      "text/plain": [
       "array([0., 0., 0., 0., 0., 0., 0., 0., 0., 0.])"
      ]
     },
     "execution_count": 202,
     "metadata": {},
     "output_type": "execute_result"
    }
   ],
   "source": [
    "np.zeros(10)"
   ]
  },
  {
   "cell_type": "code",
   "execution_count": 203,
   "id": "f922d858",
   "metadata": {},
   "outputs": [
    {
     "data": {
      "text/plain": [
       "array([1., 1., 1., 1., 1., 1., 1., 1., 1., 1.])"
      ]
     },
     "execution_count": 203,
     "metadata": {},
     "output_type": "execute_result"
    }
   ],
   "source": [
    "np.ones(10)"
   ]
  },
  {
   "cell_type": "code",
   "execution_count": 204,
   "id": "fa60ee41",
   "metadata": {},
   "outputs": [
    {
     "data": {
      "text/plain": [
       "array([10, 10, 10, 10, 10])"
      ]
     },
     "execution_count": 204,
     "metadata": {},
     "output_type": "execute_result"
    }
   ],
   "source": [
    "np.repeat(10,5)"
   ]
  },
  {
   "cell_type": "code",
   "execution_count": 205,
   "id": "3dbd5920",
   "metadata": {},
   "outputs": [
    {
     "data": {
      "text/plain": [
       "array([10, 10, 10, 10, 20, 20, 20, 20, 30, 30, 30, 30])"
      ]
     },
     "execution_count": 205,
     "metadata": {},
     "output_type": "execute_result"
    }
   ],
   "source": [
    "a= np.array([10,20,30])\n",
    "np.repeat(a, 4)"
   ]
  },
  {
   "cell_type": "code",
   "execution_count": 206,
   "id": "0833cea7",
   "metadata": {},
   "outputs": [
    {
     "data": {
      "text/plain": [
       "array([10, 10, 10, 10, 10])"
      ]
     },
     "execution_count": 206,
     "metadata": {},
     "output_type": "execute_result"
    }
   ],
   "source": [
    "np.full(5,10)"
   ]
  },
  {
   "cell_type": "code",
   "execution_count": 207,
   "id": "07288eb0",
   "metadata": {},
   "outputs": [
    {
     "data": {
      "text/plain": [
       "array([ 1,  3,  5,  7,  9, 11, 13, 15, 17, 19, 21, 23, 25, 27, 29, 31, 33,\n",
       "       35, 37, 39, 41, 43, 45, 47, 49, 51, 53, 55, 57, 59, 61, 63, 65, 67,\n",
       "       69, 71, 73, 75, 77, 79, 81, 83, 85, 87, 89, 91, 93, 95, 97, 99])"
      ]
     },
     "execution_count": 207,
     "metadata": {},
     "output_type": "execute_result"
    }
   ],
   "source": [
    "ar1 = np.arange(0,100)\n",
    "ar1[ar1%2 == 1]\n"
   ]
  },
  {
   "cell_type": "code",
   "execution_count": 208,
   "id": "d7a8e25a",
   "metadata": {},
   "outputs": [
    {
     "data": {
      "text/plain": [
       "array([  0,   2,   4,   6,   8,  10,  12,  14,  16,  18,  20,  22,  24,\n",
       "        26,  28,  30,  32,  34,  36,  38,  40,  42,  44,  46,  48,  50,\n",
       "        52,  54,  56,  58,  60,  62,  64,  66,  68,  70,  72,  74,  76,\n",
       "        78,  80,  82,  84,  86,  88,  90,  92,  94,  96,  98, 100])"
      ]
     },
     "execution_count": 208,
     "metadata": {},
     "output_type": "execute_result"
    }
   ],
   "source": [
    "ar1 = np.arange(0,101)\n",
    "ar1[ar1%2 == 0]"
   ]
  },
  {
   "cell_type": "code",
   "execution_count": 209,
   "id": "b44ad11f",
   "metadata": {},
   "outputs": [
    {
     "data": {
      "text/plain": [
       "array([10.        , 13.33333333, 16.66666667, 20.        ])"
      ]
     },
     "execution_count": 209,
     "metadata": {},
     "output_type": "execute_result"
    }
   ],
   "source": [
    "np.linspace(10,20,4)"
   ]
  },
  {
   "cell_type": "code",
   "execution_count": 210,
   "id": "7b210594",
   "metadata": {},
   "outputs": [
    {
     "data": {
      "text/plain": [
       "array([10., 11., 12., 13., 14., 15., 16., 17., 18., 19., 20.])"
      ]
     },
     "execution_count": 210,
     "metadata": {},
     "output_type": "execute_result"
    }
   ],
   "source": [
    "np.linspace(10,20,11)"
   ]
  },
  {
   "cell_type": "code",
   "execution_count": 211,
   "id": "fbc96fc1",
   "metadata": {},
   "outputs": [
    {
     "data": {
      "text/plain": [
       "array([0.63097612, 0.09210494, 0.43370117, 0.43086276])"
      ]
     },
     "execution_count": 211,
     "metadata": {},
     "output_type": "execute_result"
    }
   ],
   "source": [
    "np.random.random(4)"
   ]
  },
  {
   "cell_type": "code",
   "execution_count": 212,
   "id": "784ba033",
   "metadata": {},
   "outputs": [
    {
     "data": {
      "text/plain": [
       "array([138,  22, 146,  15, 155, 158])"
      ]
     },
     "execution_count": 212,
     "metadata": {},
     "output_type": "execute_result"
    }
   ],
   "source": [
    "np.random.randint(0,200,6)"
   ]
  },
  {
   "cell_type": "code",
   "execution_count": 213,
   "id": "b8b0ab16",
   "metadata": {},
   "outputs": [
    {
     "data": {
      "text/plain": [
       "array([66, 92, 98, 17, 83, 57, 86, 97, 96, 47])"
      ]
     },
     "execution_count": 213,
     "metadata": {},
     "output_type": "execute_result"
    }
   ],
   "source": [
    "np.random.seed(123)\n",
    "np.random.randint(0,100,10)"
   ]
  },
  {
   "cell_type": "code",
   "execution_count": 214,
   "id": "2b709a8f",
   "metadata": {},
   "outputs": [
    {
     "data": {
      "text/plain": [
       "array([66, 92, 98, 17, 83, 57, 86, 97, 96, 47])"
      ]
     },
     "execution_count": 214,
     "metadata": {},
     "output_type": "execute_result"
    }
   ],
   "source": [
    "np.random.seed(123)\n",
    "np.random.randint(0,100,10)"
   ]
  },
  {
   "cell_type": "code",
   "execution_count": 215,
   "id": "5c1e2c59",
   "metadata": {},
   "outputs": [
    {
     "data": {
      "text/plain": [
       "array([6.96058759, 6.71589008, 8.64524854, 7.19286122, 5.29838948,\n",
       "       6.99022128, 8.68997703, 5.91245865, 5.87725878, 7.65775687])"
      ]
     },
     "execution_count": 215,
     "metadata": {},
     "output_type": "execute_result"
    }
   ],
   "source": [
    "f1 = np.random.uniform(5,10, size=(10))\n",
    "f1"
   ]
  },
  {
   "cell_type": "code",
   "execution_count": 216,
   "id": "e1c2a967",
   "metadata": {},
   "outputs": [
    {
     "data": {
      "text/plain": [
       "array([6., 6., 8., 7., 5., 6., 8., 5., 5., 7.])"
      ]
     },
     "execution_count": 216,
     "metadata": {},
     "output_type": "execute_result"
    }
   ],
   "source": [
    "np.floor(f1)"
   ]
  },
  {
   "cell_type": "code",
   "execution_count": 217,
   "id": "f9e76c3c",
   "metadata": {},
   "outputs": [
    {
     "data": {
      "text/plain": [
       "array([6., 6., 8., 7., 5., 6., 8., 5., 5., 7.])"
      ]
     },
     "execution_count": 217,
     "metadata": {},
     "output_type": "execute_result"
    }
   ],
   "source": [
    "np.trunc(f1)"
   ]
  },
  {
   "cell_type": "code",
   "execution_count": 218,
   "id": "16654cba",
   "metadata": {},
   "outputs": [
    {
     "data": {
      "text/plain": [
       "array([6, 6, 8, 7, 5, 6, 8, 5, 5, 7])"
      ]
     },
     "execution_count": 218,
     "metadata": {},
     "output_type": "execute_result"
    }
   ],
   "source": [
    "f1.astype(int)"
   ]
  },
  {
   "cell_type": "code",
   "execution_count": 219,
   "id": "cbe71b05",
   "metadata": {},
   "outputs": [
    {
     "data": {
      "text/plain": [
       "array([ 2.20742744,  0.52274247,  0.46564476,  0.72491523,  1.49582653,\n",
       "        0.74658059, -1.10098526, -1.4103012 , -0.74765132, -0.98486761])"
      ]
     },
     "execution_count": 219,
     "metadata": {},
     "output_type": "execute_result"
    }
   ],
   "source": [
    "b2 =np.random.randn(10)\n",
    "b2"
   ]
  },
  {
   "cell_type": "code",
   "execution_count": 220,
   "id": "3e9d4809",
   "metadata": {},
   "outputs": [
    {
     "name": "stdout",
     "output_type": "stream",
     "text": [
      "(0,) 28\n",
      "(1,) 57\n",
      "(2,) 40\n",
      "(3,) 22\n"
     ]
    }
   ],
   "source": [
    "for index, value in np.ndenumerate(arr1):\n",
    "    print(index, value)"
   ]
  },
  {
   "cell_type": "code",
   "execution_count": 221,
   "id": "9179e961",
   "metadata": {},
   "outputs": [
    {
     "data": {
      "text/plain": [
       "array([ 1,  2,  3,  4,  5,  6,  7,  8,  9, 10, 11, 12, 13, 14, 15, 16, 17,\n",
       "       18, 19])"
      ]
     },
     "execution_count": 221,
     "metadata": {},
     "output_type": "execute_result"
    }
   ],
   "source": [
    "arr2 = np.arange(1,20)\n",
    "arr2"
   ]
  },
  {
   "cell_type": "code",
   "execution_count": 222,
   "id": "4947f12f",
   "metadata": {},
   "outputs": [
    {
     "data": {
      "text/plain": [
       "np.int64(190)"
      ]
     },
     "execution_count": 222,
     "metadata": {},
     "output_type": "execute_result"
    }
   ],
   "source": [
    "arr2.sum()"
   ]
  },
  {
   "cell_type": "code",
   "execution_count": 223,
   "id": "853f7446",
   "metadata": {},
   "outputs": [
    {
     "data": {
      "text/plain": [
       "array([  1,   3,   6,  10,  15,  21,  28,  36,  45,  55,  66,  78,  91,\n",
       "       105, 120, 136, 153, 171, 190])"
      ]
     },
     "execution_count": 223,
     "metadata": {},
     "output_type": "execute_result"
    }
   ],
   "source": [
    "np.cumsum(arr2)"
   ]
  },
  {
   "cell_type": "code",
   "execution_count": 224,
   "id": "b6c33b66",
   "metadata": {},
   "outputs": [
    {
     "data": {
      "text/plain": [
       "np.int64(1)"
      ]
     },
     "execution_count": 224,
     "metadata": {},
     "output_type": "execute_result"
    }
   ],
   "source": [
    "arr2.min()"
   ]
  },
  {
   "cell_type": "code",
   "execution_count": 225,
   "id": "cc4817fe",
   "metadata": {},
   "outputs": [
    {
     "data": {
      "text/plain": [
       "np.int64(19)"
      ]
     },
     "execution_count": 225,
     "metadata": {},
     "output_type": "execute_result"
    }
   ],
   "source": [
    "arr2.max()"
   ]
  },
  {
   "cell_type": "code",
   "execution_count": 226,
   "id": "7dd74bb8",
   "metadata": {},
   "outputs": [
    {
     "data": {
      "text/plain": [
       "np.float64(10.0)"
      ]
     },
     "execution_count": 226,
     "metadata": {},
     "output_type": "execute_result"
    }
   ],
   "source": [
    "arr2.mean()"
   ]
  },
  {
   "cell_type": "code",
   "execution_count": 227,
   "id": "6b12dec5",
   "metadata": {},
   "outputs": [
    {
     "data": {
      "text/plain": [
       "np.float64(10.0)"
      ]
     },
     "execution_count": 227,
     "metadata": {},
     "output_type": "execute_result"
    }
   ],
   "source": [
    "np.median(arr2)"
   ]
  },
  {
   "cell_type": "code",
   "execution_count": 228,
   "id": "e950c5ce",
   "metadata": {},
   "outputs": [
    {
     "data": {
      "text/plain": [
       "np.float64(30.0)"
      ]
     },
     "execution_count": 228,
     "metadata": {},
     "output_type": "execute_result"
    }
   ],
   "source": [
    "np.var(arr2)"
   ]
  },
  {
   "cell_type": "code",
   "execution_count": 229,
   "id": "7926a6d1",
   "metadata": {},
   "outputs": [
    {
     "data": {
      "text/plain": [
       "np.float64(5.477225575051661)"
      ]
     },
     "execution_count": 229,
     "metadata": {},
     "output_type": "execute_result"
    }
   ],
   "source": [
    "np.std(arr2)"
   ]
  },
  {
   "cell_type": "code",
   "execution_count": 230,
   "id": "9b149633",
   "metadata": {},
   "outputs": [
    {
     "data": {
      "text/plain": [
       "np.float64(13.6)"
      ]
     },
     "execution_count": 230,
     "metadata": {},
     "output_type": "execute_result"
    }
   ],
   "source": [
    "np.percentile(arr2,70)"
   ]
  },
  {
   "cell_type": "code",
   "execution_count": 231,
   "id": "8f67ec68",
   "metadata": {},
   "outputs": [
    {
     "data": {
      "text/plain": [
       "array([ 2.8, 13.6])"
      ]
     },
     "execution_count": 231,
     "metadata": {},
     "output_type": "execute_result"
    }
   ],
   "source": [
    "np.percentile(arr2,[10,70])"
   ]
  },
  {
   "cell_type": "code",
   "execution_count": 232,
   "id": "c5309c6f",
   "metadata": {},
   "outputs": [
    {
     "data": {
      "text/plain": [
       "array([[ 1,  2,  3,  4],\n",
       "       [ 5,  6,  7,  8],\n",
       "       [ 9, 10, 11, 12],\n",
       "       [13, 14, 15, 16]])"
      ]
     },
     "execution_count": 232,
     "metadata": {},
     "output_type": "execute_result"
    }
   ],
   "source": [
    "A = np.array([[1,2,3,4] , [5,6,7,8] , [9 , 10 , 11 ,12] , [13,14,15,16]])\n",
    "A"
   ]
  },
  {
   "cell_type": "code",
   "execution_count": 233,
   "id": "7bfba70c",
   "metadata": {},
   "outputs": [
    {
     "data": {
      "text/plain": [
       "np.int64(136)"
      ]
     },
     "execution_count": 233,
     "metadata": {},
     "output_type": "execute_result"
    }
   ],
   "source": [
    "A.sum()"
   ]
  },
  {
   "cell_type": "code",
   "execution_count": 234,
   "id": "52a15b08",
   "metadata": {},
   "outputs": [
    {
     "data": {
      "text/plain": [
       "np.int64(16)"
      ]
     },
     "execution_count": 234,
     "metadata": {},
     "output_type": "execute_result"
    }
   ],
   "source": [
    "A.max()"
   ]
  },
  {
   "cell_type": "code",
   "execution_count": 235,
   "id": "6a337566",
   "metadata": {},
   "outputs": [
    {
     "data": {
      "text/plain": [
       "np.int64(1)"
      ]
     },
     "execution_count": 235,
     "metadata": {},
     "output_type": "execute_result"
    }
   ],
   "source": [
    "A.min()"
   ]
  },
  {
   "cell_type": "code",
   "execution_count": 236,
   "id": "59d63a61",
   "metadata": {},
   "outputs": [
    {
     "data": {
      "text/plain": [
       "array([1, 2, 3, 4])"
      ]
     },
     "execution_count": 236,
     "metadata": {},
     "output_type": "execute_result"
    }
   ],
   "source": [
    "np.amin(A, axis=0)"
   ]
  },
  {
   "cell_type": "code",
   "execution_count": 237,
   "id": "4ad9ffa0",
   "metadata": {},
   "outputs": [
    {
     "data": {
      "text/plain": [
       "array([ 1,  5,  9, 13])"
      ]
     },
     "execution_count": 237,
     "metadata": {},
     "output_type": "execute_result"
    }
   ],
   "source": [
    "np.amin(A, axis=1)"
   ]
  },
  {
   "cell_type": "code",
   "execution_count": 238,
   "id": "7b10928f",
   "metadata": {},
   "outputs": [
    {
     "data": {
      "text/plain": [
       "np.float64(8.5)"
      ]
     },
     "execution_count": 238,
     "metadata": {},
     "output_type": "execute_result"
    }
   ],
   "source": [
    "A.mean()"
   ]
  },
  {
   "cell_type": "code",
   "execution_count": 239,
   "id": "5a451c56",
   "metadata": {},
   "outputs": [
    {
     "data": {
      "text/plain": [
       "np.float64(8.5)"
      ]
     },
     "execution_count": 239,
     "metadata": {},
     "output_type": "execute_result"
    }
   ],
   "source": [
    "np.mean(A)"
   ]
  },
  {
   "cell_type": "code",
   "execution_count": 240,
   "id": "bd43c04f",
   "metadata": {},
   "outputs": [
    {
     "data": {
      "text/plain": [
       "np.float64(8.5)"
      ]
     },
     "execution_count": 240,
     "metadata": {},
     "output_type": "execute_result"
    }
   ],
   "source": [
    "np.median(A)"
   ]
  },
  {
   "cell_type": "code",
   "execution_count": 241,
   "id": "802d9b37",
   "metadata": {},
   "outputs": [
    {
     "data": {
      "text/plain": [
       "np.float64(21.25)"
      ]
     },
     "execution_count": 241,
     "metadata": {},
     "output_type": "execute_result"
    }
   ],
   "source": [
    "np.var(A)"
   ]
  },
  {
   "cell_type": "code",
   "execution_count": 242,
   "id": "76df88a6",
   "metadata": {},
   "outputs": [
    {
     "data": {
      "text/plain": [
       "np.float64(8.5)"
      ]
     },
     "execution_count": 242,
     "metadata": {},
     "output_type": "execute_result"
    }
   ],
   "source": [
    "np.percentile(A,50)"
   ]
  },
  {
   "cell_type": "code",
   "execution_count": 243,
   "id": "c96b60a2",
   "metadata": {},
   "outputs": [
    {
     "data": {
      "text/plain": [
       "np.float64(4.6097722286464435)"
      ]
     },
     "execution_count": 243,
     "metadata": {},
     "output_type": "execute_result"
    }
   ],
   "source": [
    "np.std(A)"
   ]
  },
  {
   "cell_type": "code",
   "execution_count": 244,
   "id": "765bfcad",
   "metadata": {},
   "outputs": [
    {
     "data": {
      "text/plain": [
       "np.float64(13.6)"
      ]
     },
     "execution_count": 244,
     "metadata": {},
     "output_type": "execute_result"
    }
   ],
   "source": [
    "np.percentile(arr2,70)"
   ]
  },
  {
   "cell_type": "code",
   "execution_count": 245,
   "id": "575c3d7d",
   "metadata": {},
   "outputs": [
    {
     "name": "stdout",
     "output_type": "stream",
     "text": [
      "(0, 0) 1\n",
      "(0, 1) 2\n",
      "(0, 2) 3\n",
      "(0, 3) 4\n",
      "(1, 0) 5\n",
      "(1, 1) 6\n",
      "(1, 2) 7\n",
      "(1, 3) 8\n",
      "(2, 0) 9\n",
      "(2, 1) 10\n",
      "(2, 2) 11\n",
      "(2, 3) 12\n",
      "(3, 0) 13\n",
      "(3, 1) 14\n",
      "(3, 2) 15\n",
      "(3, 3) 16\n"
     ]
    }
   ],
   "source": [
    "for index, value in np.ndenumerate(A):\n",
    "    print(index, value)"
   ]
  },
  {
   "cell_type": "code",
   "execution_count": 246,
   "id": "2f28ed9a",
   "metadata": {},
   "outputs": [],
   "source": [
    "a = np.array([7,5,3,9,0,2])"
   ]
  },
  {
   "cell_type": "code",
   "execution_count": 247,
   "id": "b2bd0068",
   "metadata": {},
   "outputs": [
    {
     "data": {
      "text/plain": [
       "np.int64(7)"
      ]
     },
     "execution_count": 247,
     "metadata": {},
     "output_type": "execute_result"
    }
   ],
   "source": [
    "a[0]"
   ]
  },
  {
   "cell_type": "code",
   "execution_count": 248,
   "id": "2954204b",
   "metadata": {},
   "outputs": [
    {
     "data": {
      "text/plain": [
       "array([5, 3, 9, 0, 2])"
      ]
     },
     "execution_count": 248,
     "metadata": {},
     "output_type": "execute_result"
    }
   ],
   "source": [
    "a[1:]"
   ]
  },
  {
   "cell_type": "code",
   "execution_count": 249,
   "id": "2a1ec6a3",
   "metadata": {},
   "outputs": [
    {
     "data": {
      "text/plain": [
       "array([5, 3, 9])"
      ]
     },
     "execution_count": 249,
     "metadata": {},
     "output_type": "execute_result"
    }
   ],
   "source": [
    "a[1:4]"
   ]
  },
  {
   "cell_type": "code",
   "execution_count": 250,
   "id": "0ea79b12",
   "metadata": {},
   "outputs": [
    {
     "data": {
      "text/plain": [
       "np.int64(2)"
      ]
     },
     "execution_count": 250,
     "metadata": {},
     "output_type": "execute_result"
    }
   ],
   "source": [
    "a[-1]"
   ]
  },
  {
   "cell_type": "code",
   "execution_count": 251,
   "id": "d4cb0c32",
   "metadata": {},
   "outputs": [
    {
     "data": {
      "text/plain": [
       "np.int64(9)"
      ]
     },
     "execution_count": 251,
     "metadata": {},
     "output_type": "execute_result"
    }
   ],
   "source": [
    "a[-3]"
   ]
  },
  {
   "cell_type": "code",
   "execution_count": 252,
   "id": "4db934a8",
   "metadata": {},
   "outputs": [
    {
     "data": {
      "text/plain": [
       "array([9, 0])"
      ]
     },
     "execution_count": 252,
     "metadata": {},
     "output_type": "execute_result"
    }
   ],
   "source": [
    "a[-3:-1]"
   ]
  },
  {
   "cell_type": "code",
   "execution_count": 253,
   "id": "df4679a4",
   "metadata": {},
   "outputs": [
    {
     "data": {
      "text/plain": [
       "array([ 1,  2,  3,  4,  5,  6,  7,  8,  9, 10, 11, 12, 13, 14, 15, 16, 17,\n",
       "       18, 19, 20])"
      ]
     },
     "execution_count": 253,
     "metadata": {},
     "output_type": "execute_result"
    }
   ],
   "source": [
    "ar = np.arange(1,21)\n",
    "ar"
   ]
  },
  {
   "cell_type": "code",
   "execution_count": 254,
   "id": "9ef8fef1",
   "metadata": {},
   "outputs": [
    {
     "name": "stdout",
     "output_type": "stream",
     "text": [
      "[ 1  0  3  0  5  0  7  0  9  0 11  0 13  0 15  0 17  0 19  0]\n"
     ]
    }
   ],
   "source": [
    "repl=np.where(ar%2 == 0, 0 ,ar)\n",
    "print(repl)"
   ]
  },
  {
   "cell_type": "code",
   "execution_count": 255,
   "id": "54faa0de",
   "metadata": {},
   "outputs": [
    {
     "data": {
      "text/plain": [
       "array([10, 20, 30, 10, 10, 20, 20])"
      ]
     },
     "execution_count": 255,
     "metadata": {},
     "output_type": "execute_result"
    }
   ],
   "source": [
    "ar2 = np.array([10, 20 , 30 , 10 ,10 ,20, 20])\n",
    "ar2"
   ]
  },
  {
   "cell_type": "code",
   "execution_count": 256,
   "id": "f52be68c",
   "metadata": {},
   "outputs": [
    {
     "name": "stdout",
     "output_type": "stream",
     "text": [
      "[99 20 30 99 99 20 20]\n"
     ]
    }
   ],
   "source": [
    "rep2=np.where(ar2 == 10, 99, ar2)\n",
    "print(rep2)"
   ]
  },
  {
   "cell_type": "code",
   "execution_count": 257,
   "id": "c18015d2",
   "metadata": {},
   "outputs": [
    {
     "data": {
      "text/plain": [
       "array([  0,  10,  20,  30,  40,  50,  60,  70,  80,  90, 100])"
      ]
     },
     "execution_count": 257,
     "metadata": {},
     "output_type": "execute_result"
    }
   ],
   "source": [
    "p2=np.arange(0,101,10)\n",
    "p2"
   ]
  },
  {
   "cell_type": "code",
   "execution_count": 258,
   "id": "77281dc4",
   "metadata": {},
   "outputs": [
    {
     "data": {
      "text/plain": [
       "array([ 33,  10,  20,  55,  40,  99,  60,  70,  80,  90, 100])"
      ]
     },
     "execution_count": 258,
     "metadata": {},
     "output_type": "execute_result"
    }
   ],
   "source": [
    "np.put(p2, [0,3,5] , [33,55,99])\n",
    "p2"
   ]
  },
  {
   "cell_type": "code",
   "execution_count": 259,
   "id": "d6164404",
   "metadata": {},
   "outputs": [
    {
     "data": {
      "text/plain": [
       "array([10., nan, 20., 30., 60., nan, 90., inf])"
      ]
     },
     "execution_count": 259,
     "metadata": {},
     "output_type": "execute_result"
    }
   ],
   "source": [
    "a = np.array([10 ,np.nan,20,30,60,np.nan,90,np.inf])\n",
    "a"
   ]
  },
  {
   "cell_type": "code",
   "execution_count": 260,
   "id": "7d15265a",
   "metadata": {},
   "outputs": [
    {
     "data": {
      "text/plain": [
       "array([False,  True, False, False, False,  True, False, False])"
      ]
     },
     "execution_count": 260,
     "metadata": {},
     "output_type": "execute_result"
    }
   ],
   "source": [
    "np.isnan(a)"
   ]
  },
  {
   "cell_type": "code",
   "execution_count": 261,
   "id": "6ca4f4d6",
   "metadata": {},
   "outputs": [
    {
     "data": {
      "text/plain": [
       "(array([1, 5]),)"
      ]
     },
     "execution_count": 261,
     "metadata": {},
     "output_type": "execute_result"
    }
   ],
   "source": [
    "np.where(np.isnan(a))"
   ]
  },
  {
   "cell_type": "code",
   "execution_count": 262,
   "id": "9bd7a0f0",
   "metadata": {},
   "outputs": [
    {
     "data": {
      "text/plain": [
       "array([10., 99., 20., 30., 60., 99., 90., inf])"
      ]
     },
     "execution_count": 262,
     "metadata": {},
     "output_type": "execute_result"
    }
   ],
   "source": [
    "a[np.isnan(a)] = 99\n",
    "a"
   ]
  },
  {
   "cell_type": "code",
   "execution_count": 263,
   "id": "08d70ce6",
   "metadata": {},
   "outputs": [
    {
     "data": {
      "text/plain": [
       "np.False_"
      ]
     },
     "execution_count": 263,
     "metadata": {},
     "output_type": "execute_result"
    }
   ],
   "source": [
    "np.isnan(a).any()"
   ]
  },
  {
   "cell_type": "code",
   "execution_count": 264,
   "id": "28648c94",
   "metadata": {},
   "outputs": [
    {
     "data": {
      "text/plain": [
       "array([[ 1.,  2., nan,  4.],\n",
       "       [ 5.,  6.,  7., nan],\n",
       "       [ 9., nan, 11., 12.],\n",
       "       [nan, 14., 15., 16.]])"
      ]
     },
     "execution_count": 264,
     "metadata": {},
     "output_type": "execute_result"
    }
   ],
   "source": [
    "A = np.array([[1,2,np.nan,4] , [5,6,7,np.nan] , [9,np.nan,11,12] , [np.nan,14,15,16]])\n",
    "A"
   ]
  },
  {
   "cell_type": "code",
   "execution_count": 265,
   "id": "f5988b8d",
   "metadata": {},
   "outputs": [
    {
     "data": {
      "text/plain": [
       "array([[False, False,  True, False],\n",
       "       [False, False, False,  True],\n",
       "       [False,  True, False, False],\n",
       "       [ True, False, False, False]])"
      ]
     },
     "execution_count": 265,
     "metadata": {},
     "output_type": "execute_result"
    }
   ],
   "source": [
    "np.isnan(A)"
   ]
  },
  {
   "cell_type": "code",
   "execution_count": 266,
   "id": "e16d7958",
   "metadata": {},
   "outputs": [
    {
     "data": {
      "text/plain": [
       "(array([0, 1, 2, 3]), array([2, 3, 1, 0]))"
      ]
     },
     "execution_count": 266,
     "metadata": {},
     "output_type": "execute_result"
    }
   ],
   "source": [
    "np.where(np.isnan(A))"
   ]
  },
  {
   "cell_type": "code",
   "execution_count": 267,
   "id": "76fc2080",
   "metadata": {},
   "outputs": [
    {
     "data": {
      "text/plain": [
       "array([[0., 0., 0., 0., 0., 0., 0., 0., 0., 0.],\n",
       "       [0., 0., 0., 0., 0., 0., 0., 0., 0., 0.]])"
      ]
     },
     "execution_count": 267,
     "metadata": {},
     "output_type": "execute_result"
    }
   ],
   "source": [
    "a = np.zeros(20).reshape(2,-1)\n",
    "b = np.repeat(1,20).reshape(2,-1)\n",
    "a"
   ]
  },
  {
   "cell_type": "code",
   "execution_count": 268,
   "id": "54e6654c",
   "metadata": {},
   "outputs": [
    {
     "data": {
      "text/plain": [
       "array([[1, 1, 1, 1, 1, 1, 1, 1, 1, 1],\n",
       "       [1, 1, 1, 1, 1, 1, 1, 1, 1, 1]])"
      ]
     },
     "execution_count": 268,
     "metadata": {},
     "output_type": "execute_result"
    }
   ],
   "source": [
    "b"
   ]
  },
  {
   "cell_type": "code",
   "execution_count": 270,
   "id": "6e1a598b",
   "metadata": {},
   "outputs": [
    {
     "data": {
      "text/plain": [
       "array([[0., 0., 0., 0., 0., 0., 0., 0., 0., 0.],\n",
       "       [0., 0., 0., 0., 0., 0., 0., 0., 0., 0.],\n",
       "       [1., 1., 1., 1., 1., 1., 1., 1., 1., 1.],\n",
       "       [1., 1., 1., 1., 1., 1., 1., 1., 1., 1.]])"
      ]
     },
     "execution_count": 270,
     "metadata": {},
     "output_type": "execute_result"
    }
   ],
   "source": [
    "np.vstack([a,b])"
   ]
  },
  {
   "cell_type": "code",
   "execution_count": 271,
   "id": "ccadf8cf",
   "metadata": {},
   "outputs": [
    {
     "data": {
      "text/plain": [
       "array([[1],\n",
       "       [2],\n",
       "       [3]])"
      ]
     },
     "execution_count": 271,
     "metadata": {},
     "output_type": "execute_result"
    }
   ],
   "source": [
    "a1=np.array([[1],[2],[3]])\n",
    "b1=np.array([[4],[5],[6]])\n",
    "a1"
   ]
  },
  {
   "cell_type": "code",
   "execution_count": 272,
   "id": "ce4b2fe5",
   "metadata": {},
   "outputs": [
    {
     "data": {
      "text/plain": [
       "array([[4],\n",
       "       [5],\n",
       "       [6]])"
      ]
     },
     "execution_count": 272,
     "metadata": {},
     "output_type": "execute_result"
    }
   ],
   "source": [
    "b1"
   ]
  },
  {
   "cell_type": "code",
   "execution_count": 273,
   "id": "792d2fc4",
   "metadata": {},
   "outputs": [
    {
     "data": {
      "text/plain": [
       "array([[1],\n",
       "       [2],\n",
       "       [3],\n",
       "       [4],\n",
       "       [5],\n",
       "       [6]])"
      ]
     },
     "execution_count": 273,
     "metadata": {},
     "output_type": "execute_result"
    }
   ],
   "source": [
    "np.vstack([a1,b1])"
   ]
  },
  {
   "cell_type": "code",
   "execution_count": 274,
   "id": "5d173975",
   "metadata": {},
   "outputs": [
    {
     "data": {
      "text/plain": [
       "array([[0., 0., 0., 0., 0., 0., 0., 0., 0., 0., 1., 1., 1., 1., 1., 1.,\n",
       "        1., 1., 1., 1.],\n",
       "       [0., 0., 0., 0., 0., 0., 0., 0., 0., 0., 1., 1., 1., 1., 1., 1.,\n",
       "        1., 1., 1., 1.]])"
      ]
     },
     "execution_count": 274,
     "metadata": {},
     "output_type": "execute_result"
    }
   ],
   "source": [
    "np.hstack([a,b])"
   ]
  },
  {
   "cell_type": "code",
   "execution_count": 275,
   "id": "4e39bd6b",
   "metadata": {},
   "outputs": [
    {
     "data": {
      "text/plain": [
       "array([[1, 4],\n",
       "       [2, 5],\n",
       "       [3, 6]])"
      ]
     },
     "execution_count": 275,
     "metadata": {},
     "output_type": "execute_result"
    }
   ],
   "source": [
    "np.hstack([a1,b1])"
   ]
  },
  {
   "cell_type": "code",
   "execution_count": 276,
   "id": "32bb448f",
   "metadata": {},
   "outputs": [
    {
     "data": {
      "text/plain": [
       "array([[ 7, 13, 14,  5],\n",
       "       [18, 10, 17,  8],\n",
       "       [11, 12, 19,  4],\n",
       "       [16,  6,  1,  3]])"
      ]
     },
     "execution_count": 276,
     "metadata": {},
     "output_type": "execute_result"
    }
   ],
   "source": [
    "arr1=np.array([[7,13,14], [18,10,17], [11,12,19]])\n",
    "arr2=np.array([16,6,1])\n",
    "arr3=np.array([[5,8,4,3]])\n",
    "np.hstack((np.vstack((arr1,arr2)), np.transpose(arr3)))"
   ]
  },
  {
   "cell_type": "code",
   "execution_count": 278,
   "id": "a7b760cd",
   "metadata": {},
   "outputs": [
    {
     "data": {
      "text/plain": [
       "array([20, 40, 60])"
      ]
     },
     "execution_count": 278,
     "metadata": {},
     "output_type": "execute_result"
    }
   ],
   "source": [
    "c1 = np.array([10,20,30,40,50,60])\n",
    "c2 = np.array([12,20,33,40,55,60])\n",
    "np.intersect1d(c1,c2)"
   ]
  },
  {
   "cell_type": "code",
   "execution_count": 279,
   "id": "0ecc39f3",
   "metadata": {},
   "outputs": [
    {
     "data": {
      "text/plain": [
       "array([10, 30, 50])"
      ]
     },
     "execution_count": 279,
     "metadata": {},
     "output_type": "execute_result"
    }
   ],
   "source": [
    "np.setdiff1d(c1,c2)"
   ]
  },
  {
   "cell_type": "code",
   "execution_count": 280,
   "id": "10d0c8d1",
   "metadata": {},
   "outputs": [
    {
     "data": {
      "text/plain": [
       "(array([1, 4]),)"
      ]
     },
     "execution_count": 280,
     "metadata": {},
     "output_type": "execute_result"
    }
   ],
   "source": [
    "a = np.array([1,2,3,6,8])\n",
    "b = np.array([10,2,30,60,8])\n",
    "np.where(a==b)"
   ]
  },
  {
   "cell_type": "code",
   "execution_count": 281,
   "id": "da14cfe0",
   "metadata": {},
   "outputs": [
    {
     "data": {
      "text/plain": [
       "array([2, 8])"
      ]
     },
     "execution_count": 281,
     "metadata": {},
     "output_type": "execute_result"
    }
   ],
   "source": [
    "a[np.where(a==b)]"
   ]
  },
  {
   "cell_type": "code",
   "execution_count": 283,
   "id": "e7128bcb",
   "metadata": {},
   "outputs": [
    {
     "data": {
      "text/plain": [
       "array([21, 22, 23, 24, 25, 26, 27, 28, 29, 30, 31, 32, 33, 34])"
      ]
     },
     "execution_count": 283,
     "metadata": {},
     "output_type": "execute_result"
    }
   ],
   "source": [
    "a1=np.arange(0,60)\n",
    "a1[np.where((a1>20) & (a1<35) )]"
   ]
  },
  {
   "cell_type": "code",
   "execution_count": 286,
   "id": "28694f44",
   "metadata": {},
   "outputs": [
    {
     "data": {
      "text/plain": [
       "array([ 0, 10, 20, 21, 22, 23, 24, 25, 26, 27, 28, 29, 30, 31, 32, 33, 34,\n",
       "       40, 50])"
      ]
     },
     "execution_count": 286,
     "metadata": {},
     "output_type": "execute_result"
    }
   ],
   "source": [
    "a1=np.arange(0,60)\n",
    "a1[np.where(((a1>20) & (a1<35) ) | (a1%10==0))]"
   ]
  },
  {
   "cell_type": "code",
   "execution_count": 288,
   "id": "4b117fba",
   "metadata": {},
   "outputs": [
    {
     "data": {
      "text/plain": [
       "array([21, 22, 23, 24, 25, 26, 27, 28, 29, 30, 31, 32, 33, 34])"
      ]
     },
     "execution_count": 288,
     "metadata": {},
     "output_type": "execute_result"
    }
   ],
   "source": [
    "a1[np.where(np.logical_and(a1>20, a1<35))]"
   ]
  },
  {
   "cell_type": "code",
   "execution_count": 289,
   "id": "978e0c90",
   "metadata": {},
   "outputs": [
    {
     "data": {
      "text/plain": [
       "array([10, 20, 30, 40, 50, 60, 70])"
      ]
     },
     "execution_count": 289,
     "metadata": {},
     "output_type": "execute_result"
    }
   ],
   "source": [
    "a = np.array([10,20,30,40,50,60,70])\n",
    "a"
   ]
  },
  {
   "cell_type": "code",
   "execution_count": 290,
   "id": "5433f278",
   "metadata": {},
   "outputs": [
    {
     "data": {
      "text/plain": [
       "array([False,  True, False, False, False, False, False])"
      ]
     },
     "execution_count": 290,
     "metadata": {},
     "output_type": "execute_result"
    }
   ],
   "source": [
    "np.isin(a, [11,20])"
   ]
  },
  {
   "cell_type": "code",
   "execution_count": null,
   "id": "2cb07fde",
   "metadata": {},
   "outputs": [
    {
     "data": {
      "text/plain": [
       "array([20])"
      ]
     },
     "execution_count": 291,
     "metadata": {},
     "output_type": "execute_result"
    }
   ],
   "source": [
    "a[np.isin(a,20)]"
   ]
  },
  {
   "cell_type": "code",
   "execution_count": 293,
   "id": "53942c7a",
   "metadata": {},
   "outputs": [
    {
     "data": {
      "text/plain": [
       "array([False, False, False, False, False, False, False])"
      ]
     },
     "execution_count": 293,
     "metadata": {},
     "output_type": "execute_result"
    }
   ],
   "source": [
    "np.isin(a, 35)"
   ]
  },
  {
   "cell_type": "code",
   "execution_count": 294,
   "id": "ffa5f5a9",
   "metadata": {},
   "outputs": [
    {
     "data": {
      "text/plain": [
       "array([10, 20, 30, 40, 10, 10, 70, 80, 70, 90])"
      ]
     },
     "execution_count": 294,
     "metadata": {},
     "output_type": "execute_result"
    }
   ],
   "source": [
    "b = np.array([10,20,30,40,10,10,70,80,70,90])\n",
    "b"
   ]
  },
  {
   "cell_type": "code",
   "execution_count": null,
   "id": "9ea0c1dd",
   "metadata": {},
   "outputs": [
    {
     "data": {
      "text/plain": [
       "array([ True, False, False, False,  True,  True,  True, False,  True,\n",
       "       False])"
      ]
     },
     "execution_count": 295,
     "metadata": {},
     "output_type": "execute_result"
    }
   ],
   "source": [
    "np.isin(b, [10,70])"
   ]
  },
  {
   "cell_type": "code",
   "execution_count": 296,
   "id": "c9f48e08",
   "metadata": {},
   "outputs": [
    {
     "data": {
      "text/plain": [
       "(array([0, 4, 5, 6, 8]),)"
      ]
     },
     "execution_count": 296,
     "metadata": {},
     "output_type": "execute_result"
    }
   ],
   "source": [
    "np.where(np.isin(b, [10,70]))"
   ]
  },
  {
   "cell_type": "code",
   "execution_count": 298,
   "id": "4cd84ed8",
   "metadata": {},
   "outputs": [
    {
     "data": {
      "text/plain": [
       "array([10, 11, 12, 13, 14, 15, 16, 17, 18, 19, 20, 21, 22, 23, 24, 25, 26,\n",
       "       27, 28, 29])"
      ]
     },
     "execution_count": 298,
     "metadata": {},
     "output_type": "execute_result"
    }
   ],
   "source": [
    "a4 = np.arange(10,30)\n",
    "a4"
   ]
  },
  {
   "cell_type": "code",
   "execution_count": 300,
   "id": "08c862db",
   "metadata": {},
   "outputs": [
    {
     "data": {
      "text/plain": [
       "array([29, 28, 27, 26, 25, 24, 23, 22, 21, 20, 19, 18, 17, 16, 15, 14, 13,\n",
       "       12, 11, 10])"
      ]
     },
     "execution_count": 300,
     "metadata": {},
     "output_type": "execute_result"
    }
   ],
   "source": [
    "# a4[::-1]\n",
    "np.flip(a4)"
   ]
  },
  {
   "cell_type": "code",
   "execution_count": 301,
   "id": "d6dbdb2c",
   "metadata": {},
   "outputs": [
    {
     "data": {
      "text/plain": [
       "array([[ 3,  2,  8,  1],\n",
       "       [70, 50, 10, 67],\n",
       "       [45, 25, 75, 15],\n",
       "       [12,  9, 77,  4]])"
      ]
     },
     "execution_count": 301,
     "metadata": {},
     "output_type": "execute_result"
    }
   ],
   "source": [
    "a3 = np.array([[3,2,8,1] , [70,50,10,67] , [45,25,75,15] , [12,9,77,4]])\n",
    "a3"
   ]
  },
  {
   "cell_type": "code",
   "execution_count": 302,
   "id": "61ade0b8",
   "metadata": {},
   "outputs": [
    {
     "data": {
      "text/plain": [
       "array([[12,  9, 77,  4],\n",
       "       [45, 25, 75, 15],\n",
       "       [70, 50, 10, 67],\n",
       "       [ 3,  2,  8,  1]])"
      ]
     },
     "execution_count": 302,
     "metadata": {},
     "output_type": "execute_result"
    }
   ],
   "source": [
    "a3[::-1,]"
   ]
  },
  {
   "cell_type": "code",
   "execution_count": 303,
   "id": "f0483b5f",
   "metadata": {},
   "outputs": [
    {
     "data": {
      "text/plain": [
       "array([[ 4, 77,  9, 12],\n",
       "       [15, 75, 25, 45],\n",
       "       [67, 10, 50, 70],\n",
       "       [ 1,  8,  2,  3]])"
      ]
     },
     "execution_count": 303,
     "metadata": {},
     "output_type": "execute_result"
    }
   ],
   "source": [
    "a3[::-1,::-1]"
   ]
  },
  {
   "cell_type": "code",
   "execution_count": 304,
   "id": "19c808b0",
   "metadata": {},
   "outputs": [],
   "source": [
    "a = np.array([10,5,2,22,12,92,17,33])"
   ]
  },
  {
   "cell_type": "code",
   "execution_count": 305,
   "id": "95d826ab",
   "metadata": {},
   "outputs": [
    {
     "data": {
      "text/plain": [
       "array([ 2,  5, 10, 12, 17, 22, 33, 92])"
      ]
     },
     "execution_count": 305,
     "metadata": {},
     "output_type": "execute_result"
    }
   ],
   "source": [
    "np.sort(a)"
   ]
  },
  {
   "cell_type": "code",
   "execution_count": 306,
   "id": "7bdb5f4d",
   "metadata": {},
   "outputs": [
    {
     "data": {
      "text/plain": [
       "array([[ 3,  2,  8,  1],\n",
       "       [70, 50, 10, 67],\n",
       "       [45, 25, 75, 15]])"
      ]
     },
     "execution_count": 306,
     "metadata": {},
     "output_type": "execute_result"
    }
   ],
   "source": [
    "a3 = np.array([[3,2,8,1] , [70,50,10,67] , [45,25,75,15]])\n",
    "a3"
   ]
  },
  {
   "cell_type": "code",
   "execution_count": 307,
   "id": "1453093a",
   "metadata": {},
   "outputs": [
    {
     "data": {
      "text/plain": [
       "array([[ 1,  2,  3,  8],\n",
       "       [10, 50, 67, 70],\n",
       "       [15, 25, 45, 75]])"
      ]
     },
     "execution_count": 307,
     "metadata": {},
     "output_type": "execute_result"
    }
   ],
   "source": [
    "np.sort(a3,axis =1)"
   ]
  },
  {
   "cell_type": "code",
   "execution_count": 308,
   "id": "b15b328d",
   "metadata": {},
   "outputs": [
    {
     "data": {
      "text/plain": [
       "array([[ 3,  2,  8,  1],\n",
       "       [45, 25, 10, 15],\n",
       "       [70, 50, 75, 67]])"
      ]
     },
     "execution_count": 308,
     "metadata": {},
     "output_type": "execute_result"
    }
   ],
   "source": [
    "np.sort(a3,axis =0)"
   ]
  },
  {
   "cell_type": "code",
   "execution_count": 309,
   "id": "c5c5944f",
   "metadata": {},
   "outputs": [
    {
     "data": {
      "text/plain": [
       "array([92, 33, 22, 17, 12, 10,  5,  2])"
      ]
     },
     "execution_count": 309,
     "metadata": {},
     "output_type": "execute_result"
    }
   ],
   "source": [
    "b = np.sort(a)\n",
    "b = b[::-1]\n",
    "b"
   ]
  },
  {
   "cell_type": "code",
   "execution_count": null,
   "id": "707a71c9",
   "metadata": {},
   "outputs": [
    {
     "data": {
      "text/plain": [
       "array([92, 33, 22, 17, 12, 10,  5,  2])"
      ]
     },
     "execution_count": 310,
     "metadata": {},
     "output_type": "execute_result"
    }
   ],
   "source": [
    "# c = np.sort(a)\n",
    "# np.flip(c)\n",
    "a[::-1].sort()\n",
    "a"
   ]
  },
  {
   "cell_type": "code",
   "execution_count": 313,
   "id": "f2c54db7",
   "metadata": {},
   "outputs": [
    {
     "data": {
      "text/plain": [
       "array([ 0,  1,  2,  3,  4,  5,  6,  7,  8,  9, 10, 11, 12, 13, 14, 15, 16,\n",
       "       17, 18, 19, 20, 21, 22, 23, 24, 25, 26, 27, 28, 29, 30, 31, 32, 33,\n",
       "       34, 35, 36, 37, 38, 39, 40, 41, 42, 43, 44, 45, 46, 47, 48, 49])"
      ]
     },
     "execution_count": 313,
     "metadata": {},
     "output_type": "execute_result"
    }
   ],
   "source": [
    "p = np.arange(0,50)\n",
    "p"
   ]
  },
  {
   "cell_type": "code",
   "execution_count": 314,
   "id": "e1b51d5e",
   "metadata": {},
   "outputs": [
    {
     "data": {
      "text/plain": [
       "array([ 2, 23,  4, 49, 35, 47, 25, 37, 31, 32,  8, 45,  9, 33, 21, 48, 24,\n",
       "       19, 12, 17, 29, 39, 46, 38,  1, 28, 41, 44,  7, 20, 14, 43, 16, 26,\n",
       "        6, 30, 27, 15, 36, 18, 13, 22, 10, 34, 11,  0,  5, 42,  3, 40])"
      ]
     },
     "execution_count": 314,
     "metadata": {},
     "output_type": "execute_result"
    }
   ],
   "source": [
    "np.random.shuffle(p)\n",
    "p"
   ]
  },
  {
   "cell_type": "code",
   "execution_count": 319,
   "id": "eacfeb11",
   "metadata": {},
   "outputs": [
    {
     "data": {
      "text/plain": [
       "array([46, 47, 48, 49])"
      ]
     },
     "execution_count": 319,
     "metadata": {},
     "output_type": "execute_result"
    }
   ],
   "source": [
    "n = 4\n",
    "p[np.argsort(p)[-n:]]"
   ]
  },
  {
   "cell_type": "code",
   "execution_count": 320,
   "id": "de56b4c5",
   "metadata": {},
   "outputs": [
    {
     "data": {
      "text/plain": [
       "array([3, 2, 1, 0])"
      ]
     },
     "execution_count": 320,
     "metadata": {},
     "output_type": "execute_result"
    }
   ],
   "source": [
    "p[np.argsort(-p)[-n:]]"
   ]
  },
  {
   "cell_type": "code",
   "execution_count": 321,
   "id": "623cdec2",
   "metadata": {},
   "outputs": [
    {
     "data": {
      "text/plain": [
       "[10, 20, 30]"
      ]
     },
     "execution_count": 321,
     "metadata": {},
     "output_type": "execute_result"
    }
   ],
   "source": [
    "a5 = [10,20,30] \n",
    "a5"
   ]
  },
  {
   "cell_type": "code",
   "execution_count": 322,
   "id": "524bd838",
   "metadata": {},
   "outputs": [
    {
     "data": {
      "text/plain": [
       "array([10, 20, 30, 10, 20, 30])"
      ]
     },
     "execution_count": 322,
     "metadata": {},
     "output_type": "execute_result"
    }
   ],
   "source": [
    "np.tile(a5, 2)"
   ]
  },
  {
   "cell_type": "code",
   "execution_count": 323,
   "id": "a8a8f0e2",
   "metadata": {},
   "outputs": [
    {
     "data": {
      "text/plain": [
       "array([10, 10, 10, 20, 20, 20, 30, 30, 30])"
      ]
     },
     "execution_count": 323,
     "metadata": {},
     "output_type": "execute_result"
    }
   ],
   "source": [
    "np.repeat(a5, 3)"
   ]
  },
  {
   "cell_type": "code",
   "execution_count": 324,
   "id": "c404eb01",
   "metadata": {},
   "outputs": [
    {
     "data": {
      "text/plain": [
       "array([0, 1, 2, 3, 4, 5, 6, 7, 8, 9])"
      ]
     },
     "execution_count": 324,
     "metadata": {},
     "output_type": "execute_result"
    }
   ],
   "source": [
    "d1 = np.arange(0,10)\n",
    "d1"
   ]
  },
  {
   "cell_type": "code",
   "execution_count": 325,
   "id": "4375e92d",
   "metadata": {},
   "outputs": [
    {
     "data": {
      "text/plain": [
       "array([0, 1, 2, 3, 4, 5, 6, 7, 8, 9])"
      ]
     },
     "execution_count": 325,
     "metadata": {},
     "output_type": "execute_result"
    }
   ],
   "source": [
    "d2 = np.arange(0,10)\n",
    "d2"
   ]
  },
  {
   "cell_type": "code",
   "execution_count": 326,
   "id": "7accb841",
   "metadata": {},
   "outputs": [
    {
     "data": {
      "text/plain": [
       "array([10, 11, 12, 13, 14, 15, 16, 17, 18, 19])"
      ]
     },
     "execution_count": 326,
     "metadata": {},
     "output_type": "execute_result"
    }
   ],
   "source": [
    "d3 = np.arange(10,20)\n",
    "d3"
   ]
  },
  {
   "cell_type": "code",
   "execution_count": 327,
   "id": "e1cd6496",
   "metadata": {},
   "outputs": [
    {
     "data": {
      "text/plain": [
       "array([9, 8, 7, 6, 5, 4, 3, 2, 1, 0])"
      ]
     },
     "execution_count": 327,
     "metadata": {},
     "output_type": "execute_result"
    }
   ],
   "source": [
    "d4=d1[::-1]\n",
    "d4"
   ]
  },
  {
   "cell_type": "code",
   "execution_count": 329,
   "id": "ba357575",
   "metadata": {},
   "outputs": [
    {
     "data": {
      "text/plain": [
       "True"
      ]
     },
     "execution_count": 329,
     "metadata": {},
     "output_type": "execute_result"
    }
   ],
   "source": [
    "res1=np.allclose(d1,d2,d3)\n",
    "res1"
   ]
  },
  {
   "cell_type": "code",
   "execution_count": 330,
   "id": "6c8606f4",
   "metadata": {},
   "outputs": [
    {
     "data": {
      "text/plain": [
       "False"
      ]
     },
     "execution_count": 330,
     "metadata": {},
     "output_type": "execute_result"
    }
   ],
   "source": [
    "res2=np.allclose(d1,d4)\n",
    "res2"
   ]
  },
  {
   "cell_type": "code",
   "execution_count": 331,
   "id": "f1e9ecc2",
   "metadata": {},
   "outputs": [
    {
     "data": {
      "text/plain": [
       "array([10, 20, 30])"
      ]
     },
     "execution_count": 331,
     "metadata": {},
     "output_type": "execute_result"
    }
   ],
   "source": [
    "b = np.array([10,10,10,20,30,20,30,30,20,10,10,30,10])\n",
    "np.unique(b)"
   ]
  },
  {
   "cell_type": "code",
   "execution_count": 333,
   "id": "6ca0a23e",
   "metadata": {},
   "outputs": [
    {
     "data": {
      "text/plain": [
       "(array([10, 20, 30]), array([6, 3, 4]))"
      ]
     },
     "execution_count": 333,
     "metadata": {},
     "output_type": "execute_result"
    }
   ],
   "source": [
    "val, count = np.unique(b,return_counts=True)\n",
    "val,count"
   ]
  },
  {
   "cell_type": "code",
   "execution_count": 334,
   "id": "36dfbb2e",
   "metadata": {},
   "outputs": [
    {
     "data": {
      "text/plain": [
       "np.int64(10)"
      ]
     },
     "execution_count": 334,
     "metadata": {},
     "output_type": "execute_result"
    }
   ],
   "source": [
    "np.bincount(b).argmax()"
   ]
  },
  {
   "cell_type": "code",
   "execution_count": 335,
   "id": "7b77a4df",
   "metadata": {},
   "outputs": [
    {
     "data": {
      "text/plain": [
       "array([10, 20, 30, 40, 50, 60, 70, 80, 90])"
      ]
     },
     "execution_count": 335,
     "metadata": {},
     "output_type": "execute_result"
    }
   ],
   "source": [
    "d5 = np.arange(10,100,10)\n",
    "d5"
   ]
  },
  {
   "cell_type": "code",
   "execution_count": 336,
   "id": "19e6c3a1",
   "metadata": {},
   "outputs": [],
   "source": [
    "d5.flags.writeable = False"
   ]
  },
  {
   "cell_type": "code",
   "execution_count": 342,
   "id": "e6349306",
   "metadata": {},
   "outputs": [
    {
     "data": {
      "text/plain": [
       "array([28, 40, 22,  5,  7,  2,  8])"
      ]
     },
     "execution_count": 342,
     "metadata": {},
     "output_type": "execute_result"
    }
   ],
   "source": [
    "p4 = np.loadtxt('sample.txt', \n",
    "                dtype = np.int64\n",
    ")\n",
    "p4"
   ]
  },
  {
   "cell_type": "code",
   "execution_count": 343,
   "id": "59960b9d",
   "metadata": {},
   "outputs": [
    {
     "data": {
      "text/plain": [
       "array(['Panshul', 'is', 'Awesome', 'obviously', 'hehehehehehehehehehe'],\n",
       "      dtype='<U20')"
      ]
     },
     "execution_count": 343,
     "metadata": {},
     "output_type": "execute_result"
    }
   ],
   "source": [
    "p5 = np.genfromtxt('sample0.txt',dtype='str')\n",
    "p5"
   ]
  },
  {
   "cell_type": "code",
   "execution_count": 344,
   "id": "6eb6d436",
   "metadata": {},
   "outputs": [
    {
     "data": {
      "text/plain": [
       "np.str_('Panshul')"
      ]
     },
     "execution_count": 344,
     "metadata": {},
     "output_type": "execute_result"
    }
   ],
   "source": [
    "p5[0]"
   ]
  },
  {
   "cell_type": "code",
   "execution_count": 347,
   "id": "bbdea2ed",
   "metadata": {},
   "outputs": [
    {
     "data": {
      "text/plain": [
       "array([ 10,  21,  32,  43,  54,  65,  76,  87,  98, 109, 120, 131, 142,\n",
       "       153, 164, 175, 186, 197])"
      ]
     },
     "execution_count": 347,
     "metadata": {},
     "output_type": "execute_result"
    }
   ],
   "source": [
    "p6 = np.arange(10,200,11)\n",
    "p6"
   ]
  },
  {
   "cell_type": "code",
   "execution_count": 352,
   "id": "995fef2f",
   "metadata": {},
   "outputs": [],
   "source": [
    "np.savetxt('test1.csv', p6, delimiter=',')"
   ]
  },
  {
   "cell_type": "code",
   "execution_count": 350,
   "id": "c6f02318",
   "metadata": {},
   "outputs": [
    {
     "data": {
      "text/plain": [
       "array([[  0,   1,   2,   3,   4,   5,   6,   7,   8,   9,  10],\n",
       "       [ 11,  12,  13,  14,  15,  16,  17,  18,  19,  20,  21],\n",
       "       [ 22,  23,  24,  25,  26,  27,  28,  29,  30,  31,  32],\n",
       "       [ 33,  34,  35,  36,  37,  38,  39,  40,  41,  42,  43],\n",
       "       [ 44,  45,  46,  47,  48,  49,  50,  51,  52,  53,  54],\n",
       "       [ 55,  56,  57,  58,  59,  60,  61,  62,  63,  64,  65],\n",
       "       [ 66,  67,  68,  69,  70,  71,  72,  73,  74,  75,  76],\n",
       "       [ 77,  78,  79,  80,  81,  82,  83,  84,  85,  86,  87],\n",
       "       [ 88,  89,  90,  91,  92,  93,  94,  95,  96,  97,  98],\n",
       "       [ 99, 100, 101, 102, 103, 104, 105, 106, 107, 108, 109],\n",
       "       [110, 111, 112, 113, 114, 115, 116, 117, 118, 119, 120]])"
      ]
     },
     "execution_count": 350,
     "metadata": {},
     "output_type": "execute_result"
    }
   ],
   "source": [
    "p7 = np.arange(0,121).reshape(11,11)\n",
    "p7"
   ]
  },
  {
   "cell_type": "code",
   "execution_count": 353,
   "id": "891b0df5",
   "metadata": {},
   "outputs": [],
   "source": [
    "np.save('test2.npy', p7)\n"
   ]
  },
  {
   "cell_type": "code",
   "execution_count": 355,
   "id": "7fdba64c",
   "metadata": {},
   "outputs": [
    {
     "data": {
      "text/plain": [
       "array([[  0,   1,   2,   3,   4,   5,   6,   7,   8,   9,  10],\n",
       "       [ 11,  12,  13,  14,  15,  16,  17,  18,  19,  20,  21],\n",
       "       [ 22,  23,  24,  25,  26,  27,  28,  29,  30,  31,  32],\n",
       "       [ 33,  34,  35,  36,  37,  38,  39,  40,  41,  42,  43],\n",
       "       [ 44,  45,  46,  47,  48,  49,  50,  51,  52,  53,  54],\n",
       "       [ 55,  56,  57,  58,  59,  60,  61,  62,  63,  64,  65],\n",
       "       [ 66,  67,  68,  69,  70,  71,  72,  73,  74,  75,  76],\n",
       "       [ 77,  78,  79,  80,  81,  82,  83,  84,  85,  86,  87],\n",
       "       [ 88,  89,  90,  91,  92,  93,  94,  95,  96,  97,  98],\n",
       "       [ 99, 100, 101, 102, 103, 104, 105, 106, 107, 108, 109],\n",
       "       [110, 111, 112, 113, 114, 115, 116, 117, 118, 119, 120]])"
      ]
     },
     "execution_count": 355,
     "metadata": {},
     "output_type": "execute_result"
    }
   ],
   "source": [
    "p8 = np.load('test2.npy')\n",
    "p8"
   ]
  },
  {
   "cell_type": "code",
   "execution_count": 356,
   "id": "e530150c",
   "metadata": {},
   "outputs": [],
   "source": [
    "np.save('numpyfile', p8)"
   ]
  },
  {
   "cell_type": "code",
   "execution_count": 357,
   "id": "b94b376b",
   "metadata": {},
   "outputs": [
    {
     "data": {
      "text/plain": [
       "array([[  0,   1,   2,   3,   4,   5,   6,   7,   8,   9,  10],\n",
       "       [ 11,  12,  13,  14,  15,  16,  17,  18,  19,  20,  21],\n",
       "       [ 22,  23,  24,  25,  26,  27,  28,  29,  30,  31,  32],\n",
       "       [ 33,  34,  35,  36,  37,  38,  39,  40,  41,  42,  43],\n",
       "       [ 44,  45,  46,  47,  48,  49,  50,  51,  52,  53,  54],\n",
       "       [ 55,  56,  57,  58,  59,  60,  61,  62,  63,  64,  65],\n",
       "       [ 66,  67,  68,  69,  70,  71,  72,  73,  74,  75,  76],\n",
       "       [ 77,  78,  79,  80,  81,  82,  83,  84,  85,  86,  87],\n",
       "       [ 88,  89,  90,  91,  92,  93,  94,  95,  96,  97,  98],\n",
       "       [ 99, 100, 101, 102, 103, 104, 105, 106, 107, 108, 109],\n",
       "       [110, 111, 112, 113, 114, 115, 116, 117, 118, 119, 120]])"
      ]
     },
     "execution_count": 357,
     "metadata": {},
     "output_type": "execute_result"
    }
   ],
   "source": [
    "p9 = np.load('numpyfile.npy')\n",
    "p9"
   ]
  },
  {
   "cell_type": "code",
   "execution_count": 358,
   "id": "216d7932",
   "metadata": {},
   "outputs": [
    {
     "data": {
      "text/plain": [
       "array([[     0,      1,      2, ...,    997,    998,    999],\n",
       "       [  1000,   1001,   1002, ...,   1997,   1998,   1999],\n",
       "       [  2000,   2001,   2002, ...,   2997,   2998,   2999],\n",
       "       ...,\n",
       "       [997000, 997001, 997002, ..., 997997, 997998, 997999],\n",
       "       [998000, 998001, 998002, ..., 998997, 998998, 998999],\n",
       "       [999000, 999001, 999002, ..., 999997, 999998, 999999]],\n",
       "      shape=(1000, 1000))"
      ]
     },
     "execution_count": 358,
     "metadata": {},
     "output_type": "execute_result"
    }
   ],
   "source": [
    "p10 = np.arange(0,1000000).reshape(1000,1000)\n",
    "p10"
   ]
  },
  {
   "cell_type": "code",
   "execution_count": 359,
   "id": "01edf560",
   "metadata": {},
   "outputs": [],
   "source": [
    "np.savez_compressed('test6.npz', p10)"
   ]
  },
  {
   "cell_type": "code",
   "execution_count": 360,
   "id": "dca5b266",
   "metadata": {},
   "outputs": [],
   "source": [
    "np.save('test7.npy', p10)"
   ]
  },
  {
   "cell_type": "code",
   "execution_count": 362,
   "id": "7b8e1765",
   "metadata": {},
   "outputs": [
    {
     "data": {
      "image/png": "[encoded data removed]",
      "text/plain": [
       "<IPython.core.display.Image object>"
      ]
     },
     "execution_count": 362,
     "metadata": {},
     "output_type": "execute_result"
    }
   ],
   "source": [
    "Image(filename='screenshot.PNG')"
   ]
  },
  {
   "cell_type": "code",
   "execution_count": 363,
   "id": "9ce0d179",
   "metadata": {},
   "outputs": [
    {
     "data": {
      "text/plain": [
       "array([12.6544, 90.7864])"
      ]
     },
     "execution_count": 363,
     "metadata": {},
     "output_type": "execute_result"
    }
   ],
   "source": [
    "np.set_printoptions(precision=4)\n",
    "a = np.array([12.654398765 , 90.7864098354674])\n",
    "a"
   ]
  },
  {
   "cell_type": "code",
   "execution_count": 364,
   "id": "6215bec5",
   "metadata": {},
   "outputs": [
    {
     "data": {
      "text/plain": [
       "array([12.65, 90.79])"
      ]
     },
     "execution_count": 364,
     "metadata": {},
     "output_type": "execute_result"
    }
   ],
   "source": [
    "np.set_printoptions(precision=2)\n",
    "a = np.array([12.654398765 , 90.7864098354674])\n",
    "a"
   ]
  },
  {
   "cell_type": "code",
   "execution_count": 365,
   "id": "1db57e3f",
   "metadata": {},
   "outputs": [
    {
     "data": {
      "text/plain": [
       "array([  0,   1,   2, ..., 197, 198, 199], shape=(200,))"
      ]
     },
     "execution_count": 365,
     "metadata": {},
     "output_type": "execute_result"
    }
   ],
   "source": [
    "np.set_printoptions(threshold=3)\n",
    "np.arange(200)"
   ]
  },
  {
   "cell_type": "code",
   "execution_count": 366,
   "id": "c89490b7",
   "metadata": {},
   "outputs": [
    {
     "data": {
      "text/plain": [
       "array([12.65439876, 90.78640984])"
      ]
     },
     "execution_count": 366,
     "metadata": {},
     "output_type": "execute_result"
    }
   ],
   "source": [
    "np.set_printoptions(precision=8,suppress=False, threshold=1000, formatter=None)\n",
    "a = np.array([12.654398765 , 90.7864098354674])\n",
    "a"
   ]
  },
  {
   "cell_type": "code",
   "execution_count": 367,
   "id": "714c2f95",
   "metadata": {},
   "outputs": [
    {
     "data": {
      "text/plain": [
       "array([   1,    2,    3, ..., 1097, 1098, 1099], shape=(1099,))"
      ]
     },
     "execution_count": 367,
     "metadata": {},
     "output_type": "execute_result"
    }
   ],
   "source": [
    "np.arange(1,1100)"
   ]
  },
  {
   "cell_type": "code",
   "execution_count": 368,
   "id": "59a9ef30",
   "metadata": {},
   "outputs": [
    {
     "data": {
      "text/plain": [
       "array([   1,    2,    3,    4,    5,    6,    7,    8,    9,   10,   11,\n",
       "         12,   13,   14,   15,   16,   17,   18,   19,   20,   21,   22,\n",
       "         23,   24,   25,   26,   27,   28,   29,   30,   31,   32,   33,\n",
       "         34,   35,   36,   37,   38,   39,   40,   41,   42,   43,   44,\n",
       "         45,   46,   47,   48,   49,   50,   51,   52,   53,   54,   55,\n",
       "         56,   57,   58,   59,   60,   61,   62,   63,   64,   65,   66,\n",
       "         67,   68,   69,   70,   71,   72,   73,   74,   75,   76,   77,\n",
       "         78,   79,   80,   81,   82,   83,   84,   85,   86,   87,   88,\n",
       "         89,   90,   91,   92,   93,   94,   95,   96,   97,   98,   99,\n",
       "        100,  101,  102,  103,  104,  105,  106,  107,  108,  109,  110,\n",
       "        111,  112,  113,  114,  115,  116,  117,  118,  119,  120,  121,\n",
       "        122,  123,  124,  125,  126,  127,  128,  129,  130,  131,  132,\n",
       "        133,  134,  135,  136,  137,  138,  139,  140,  141,  142,  143,\n",
       "        144,  145,  146,  147,  148,  149,  150,  151,  152,  153,  154,\n",
       "        155,  156,  157,  158,  159,  160,  161,  162,  163,  164,  165,\n",
       "        166,  167,  168,  169,  170,  171,  172,  173,  174,  175,  176,\n",
       "        177,  178,  179,  180,  181,  182,  183,  184,  185,  186,  187,\n",
       "        188,  189,  190,  191,  192,  193,  194,  195,  196,  197,  198,\n",
       "        199,  200,  201,  202,  203,  204,  205,  206,  207,  208,  209,\n",
       "        210,  211,  212,  213,  214,  215,  216,  217,  218,  219,  220,\n",
       "        221,  222,  223,  224,  225,  226,  227,  228,  229,  230,  231,\n",
       "        232,  233,  234,  235,  236,  237,  238,  239,  240,  241,  242,\n",
       "        243,  244,  245,  246,  247,  248,  249,  250,  251,  252,  253,\n",
       "        254,  255,  256,  257,  258,  259,  260,  261,  262,  263,  264,\n",
       "        265,  266,  267,  268,  269,  270,  271,  272,  273,  274,  275,\n",
       "        276,  277,  278,  279,  280,  281,  282,  283,  284,  285,  286,\n",
       "        287,  288,  289,  290,  291,  292,  293,  294,  295,  296,  297,\n",
       "        298,  299,  300,  301,  302,  303,  304,  305,  306,  307,  308,\n",
       "        309,  310,  311,  312,  313,  314,  315,  316,  317,  318,  319,\n",
       "        320,  321,  322,  323,  324,  325,  326,  327,  328,  329,  330,\n",
       "        331,  332,  333,  334,  335,  336,  337,  338,  339,  340,  341,\n",
       "        342,  343,  344,  345,  346,  347,  348,  349,  350,  351,  352,\n",
       "        353,  354,  355,  356,  357,  358,  359,  360,  361,  362,  363,\n",
       "        364,  365,  366,  367,  368,  369,  370,  371,  372,  373,  374,\n",
       "        375,  376,  377,  378,  379,  380,  381,  382,  383,  384,  385,\n",
       "        386,  387,  388,  389,  390,  391,  392,  393,  394,  395,  396,\n",
       "        397,  398,  399,  400,  401,  402,  403,  404,  405,  406,  407,\n",
       "        408,  409,  410,  411,  412,  413,  414,  415,  416,  417,  418,\n",
       "        419,  420,  421,  422,  423,  424,  425,  426,  427,  428,  429,\n",
       "        430,  431,  432,  433,  434,  435,  436,  437,  438,  439,  440,\n",
       "        441,  442,  443,  444,  445,  446,  447,  448,  449,  450,  451,\n",
       "        452,  453,  454,  455,  456,  457,  458,  459,  460,  461,  462,\n",
       "        463,  464,  465,  466,  467,  468,  469,  470,  471,  472,  473,\n",
       "        474,  475,  476,  477,  478,  479,  480,  481,  482,  483,  484,\n",
       "        485,  486,  487,  488,  489,  490,  491,  492,  493,  494,  495,\n",
       "        496,  497,  498,  499,  500,  501,  502,  503,  504,  505,  506,\n",
       "        507,  508,  509,  510,  511,  512,  513,  514,  515,  516,  517,\n",
       "        518,  519,  520,  521,  522,  523,  524,  525,  526,  527,  528,\n",
       "        529,  530,  531,  532,  533,  534,  535,  536,  537,  538,  539,\n",
       "        540,  541,  542,  543,  544,  545,  546,  547,  548,  549,  550,\n",
       "        551,  552,  553,  554,  555,  556,  557,  558,  559,  560,  561,\n",
       "        562,  563,  564,  565,  566,  567,  568,  569,  570,  571,  572,\n",
       "        573,  574,  575,  576,  577,  578,  579,  580,  581,  582,  583,\n",
       "        584,  585,  586,  587,  588,  589,  590,  591,  592,  593,  594,\n",
       "        595,  596,  597,  598,  599,  600,  601,  602,  603,  604,  605,\n",
       "        606,  607,  608,  609,  610,  611,  612,  613,  614,  615,  616,\n",
       "        617,  618,  619,  620,  621,  622,  623,  624,  625,  626,  627,\n",
       "        628,  629,  630,  631,  632,  633,  634,  635,  636,  637,  638,\n",
       "        639,  640,  641,  642,  643,  644,  645,  646,  647,  648,  649,\n",
       "        650,  651,  652,  653,  654,  655,  656,  657,  658,  659,  660,\n",
       "        661,  662,  663,  664,  665,  666,  667,  668,  669,  670,  671,\n",
       "        672,  673,  674,  675,  676,  677,  678,  679,  680,  681,  682,\n",
       "        683,  684,  685,  686,  687,  688,  689,  690,  691,  692,  693,\n",
       "        694,  695,  696,  697,  698,  699,  700,  701,  702,  703,  704,\n",
       "        705,  706,  707,  708,  709,  710,  711,  712,  713,  714,  715,\n",
       "        716,  717,  718,  719,  720,  721,  722,  723,  724,  725,  726,\n",
       "        727,  728,  729,  730,  731,  732,  733,  734,  735,  736,  737,\n",
       "        738,  739,  740,  741,  742,  743,  744,  745,  746,  747,  748,\n",
       "        749,  750,  751,  752,  753,  754,  755,  756,  757,  758,  759,\n",
       "        760,  761,  762,  763,  764,  765,  766,  767,  768,  769,  770,\n",
       "        771,  772,  773,  774,  775,  776,  777,  778,  779,  780,  781,\n",
       "        782,  783,  784,  785,  786,  787,  788,  789,  790,  791,  792,\n",
       "        793,  794,  795,  796,  797,  798,  799,  800,  801,  802,  803,\n",
       "        804,  805,  806,  807,  808,  809,  810,  811,  812,  813,  814,\n",
       "        815,  816,  817,  818,  819,  820,  821,  822,  823,  824,  825,\n",
       "        826,  827,  828,  829,  830,  831,  832,  833,  834,  835,  836,\n",
       "        837,  838,  839,  840,  841,  842,  843,  844,  845,  846,  847,\n",
       "        848,  849,  850,  851,  852,  853,  854,  855,  856,  857,  858,\n",
       "        859,  860,  861,  862,  863,  864,  865,  866,  867,  868,  869,\n",
       "        870,  871,  872,  873,  874,  875,  876,  877,  878,  879,  880,\n",
       "        881,  882,  883,  884,  885,  886,  887,  888,  889,  890,  891,\n",
       "        892,  893,  894,  895,  896,  897,  898,  899,  900,  901,  902,\n",
       "        903,  904,  905,  906,  907,  908,  909,  910,  911,  912,  913,\n",
       "        914,  915,  916,  917,  918,  919,  920,  921,  922,  923,  924,\n",
       "        925,  926,  927,  928,  929,  930,  931,  932,  933,  934,  935,\n",
       "        936,  937,  938,  939,  940,  941,  942,  943,  944,  945,  946,\n",
       "        947,  948,  949,  950,  951,  952,  953,  954,  955,  956,  957,\n",
       "        958,  959,  960,  961,  962,  963,  964,  965,  966,  967,  968,\n",
       "        969,  970,  971,  972,  973,  974,  975,  976,  977,  978,  979,\n",
       "        980,  981,  982,  983,  984,  985,  986,  987,  988,  989,  990,\n",
       "        991,  992,  993,  994,  995,  996,  997,  998,  999, 1000, 1001,\n",
       "       1002, 1003, 1004, 1005, 1006, 1007, 1008, 1009, 1010, 1011, 1012,\n",
       "       1013, 1014, 1015, 1016, 1017, 1018, 1019, 1020, 1021, 1022, 1023,\n",
       "       1024, 1025, 1026, 1027, 1028, 1029, 1030, 1031, 1032, 1033, 1034,\n",
       "       1035, 1036, 1037, 1038, 1039, 1040, 1041, 1042, 1043, 1044, 1045,\n",
       "       1046, 1047, 1048, 1049, 1050, 1051, 1052, 1053, 1054, 1055, 1056,\n",
       "       1057, 1058, 1059, 1060, 1061, 1062, 1063, 1064, 1065, 1066, 1067,\n",
       "       1068, 1069, 1070, 1071, 1072, 1073, 1074, 1075, 1076, 1077, 1078,\n",
       "       1079, 1080, 1081, 1082, 1083, 1084, 1085, 1086, 1087, 1088, 1089,\n",
       "       1090, 1091, 1092, 1093, 1094, 1095, 1096, 1097, 1098, 1099])"
      ]
     },
     "execution_count": 368,
     "metadata": {},
     "output_type": "execute_result"
    }
   ],
   "source": [
    "np.set_printoptions(threshold=np.inf)\n",
    "np.arange(1,1100)"
   ]
  },
  {
   "cell_type": "code",
   "execution_count": 369,
   "id": "273bb83d",
   "metadata": {},
   "outputs": [
    {
     "name": "stdout",
     "output_type": "stream",
     "text": [
      "V3 = [4 6]\n"
     ]
    }
   ],
   "source": [
    "v1 = np.array([1,2])\n",
    "v2 = np.array([3,4])\n",
    "v3 = v1+v2\n",
    "v3 = np.add(v1,v2)\n",
    "print('V3 =' ,v3)"
   ]
  },
  {
   "cell_type": "code",
   "execution_count": 370,
   "id": "6125ee39",
   "metadata": {},
   "outputs": [
    {
     "name": "stdout",
     "output_type": "stream",
     "text": [
      "[20 42 72]\n"
     ]
    }
   ],
   "source": [
    "a1 = [5 , 6 ,8]\n",
    "a2 = [4, 7 , 9]\n",
    "print(np.multiply(a1,a2))"
   ]
  },
  {
   "cell_type": "code",
   "execution_count": 372,
   "id": "46da4be0",
   "metadata": {},
   "outputs": [
    {
     "name": "stdout",
     "output_type": "stream",
     "text": [
      "The dot product is: 32\n"
     ]
    }
   ],
   "source": [
    "a1=np.array([1,2,3])\n",
    "a2=np.array([4,5,6])\n",
    "dotp=a1@a2\n",
    "print(\"The dot product is:\", dotp)\n"
   ]
  },
  {
   "cell_type": "code",
   "execution_count": 373,
   "id": "d643ab1a",
   "metadata": {},
   "outputs": [
    {
     "name": "stdout",
     "output_type": "stream",
     "text": [
      " Dot product usign np.dot 32\n"
     ]
    }
   ],
   "source": [
    "dotp = np.dot(a1,a2)\n",
    "print(\" Dot product usign np.dot\",dotp)"
   ]
  },
  {
   "cell_type": "code",
   "execution_count": 374,
   "id": "97672306",
   "metadata": {},
   "outputs": [
    {
     "name": "stdout",
     "output_type": "stream",
     "text": [
      " Dot product usign np.inner 32\n"
     ]
    }
   ],
   "source": [
    "dotp = np.inner(a1,a2)\n",
    "print(\" Dot product usign np.inner\", dotp)\n"
   ]
  },
  {
   "cell_type": "code",
   "execution_count": 375,
   "id": "3bbb3966",
   "metadata": {},
   "outputs": [
    {
     "name": "stdout",
     "output_type": "stream",
     "text": [
      " Dot product usign np.multiply & sum 32\n"
     ]
    }
   ],
   "source": [
    "dotp = sum(np.multiply(a1,a2))\n",
    "print(\" Dot product usign np.multiply & sum\",dotp)"
   ]
  },
  {
   "cell_type": "code",
   "execution_count": 376,
   "id": "97d22068",
   "metadata": {},
   "outputs": [
    {
     "name": "stdout",
     "output_type": "stream",
     "text": [
      " Dot product usign np.matmul 32\n"
     ]
    }
   ],
   "source": [
    "dotp = np.matmul(a1,a2)\n",
    "print(\" Dot product usign np.matmul\",dotp)"
   ]
  },
  {
   "cell_type": "code",
   "execution_count": 377,
   "id": "4b75cd2c",
   "metadata": {},
   "outputs": [
    {
     "name": "stdout",
     "output_type": "stream",
     "text": [
      " Dot product usign for loop 32\n"
     ]
    }
   ],
   "source": [
    "dotp = 0\n",
    "for i in range(len(a1)):\n",
    "    dotp = dotp + a1[i]*a2[i]\n",
    "print(\" Dot product usign for loop\" , dotp)"
   ]
  },
  {
   "cell_type": "code",
   "execution_count": 378,
   "id": "66d6ddcf",
   "metadata": {},
   "outputs": [
    {
     "data": {
      "text/plain": [
       "np.float64(9.539392014169456)"
      ]
     },
     "execution_count": 378,
     "metadata": {},
     "output_type": "execute_result"
    }
   ],
   "source": [
    "v3 = np.array([1,2,3,4,5,6])\n",
    "length = np.sqrt(np.dot(v3,v3))\n",
    "length"
   ]
  },
  {
   "cell_type": "code",
   "execution_count": 379,
   "id": "316abca0",
   "metadata": {},
   "outputs": [
    {
     "data": {
      "text/plain": [
       "np.float64(9.539392014169456)"
      ]
     },
     "execution_count": 379,
     "metadata": {},
     "output_type": "execute_result"
    }
   ],
   "source": [
    "v3 = np.array([1,2,3,4,5,6])\n",
    "length = np.sqrt(sum(np.multiply(v3,v3)))\n",
    "length"
   ]
  },
  {
   "cell_type": "code",
   "execution_count": 380,
   "id": "06eac9a0",
   "metadata": {},
   "outputs": [
    {
     "data": {
      "text/plain": [
       "np.float64(9.539392014169456)"
      ]
     },
     "execution_count": 380,
     "metadata": {},
     "output_type": "execute_result"
    }
   ],
   "source": [
    "v3 = np.array([1,2,3,4,5,6])\n",
    "length = np.sqrt(np.matmul(v3,v3))\n",
    "length"
   ]
  },
  {
   "cell_type": "code",
   "execution_count": 381,
   "id": "aaa72ca0",
   "metadata": {},
   "outputs": [
    {
     "data": {
      "text/plain": [
       "(np.float64(3.605551275463989), array([0.5547002 , 0.83205029]))"
      ]
     },
     "execution_count": 381,
     "metadata": {},
     "output_type": "execute_result"
    }
   ],
   "source": [
    "v1 = [2,3]\n",
    "length_v1 = np.sqrt(np.dot(v1,v1))\n",
    "norm_v1 = v1/length_v1\n",
    "length_v1 , norm_v1"
   ]
  },
  {
   "cell_type": "code",
   "execution_count": 382,
   "id": "f00f1e20",
   "metadata": {},
   "outputs": [
    {
     "data": {
      "text/plain": [
       "array([0.5547002 , 0.83205029])"
      ]
     },
     "execution_count": 382,
     "metadata": {},
     "output_type": "execute_result"
    }
   ],
   "source": [
    "v1 = [2,3]\n",
    "norm_v1 = v1/np.linalg.norm(v1)\n",
    "norm_v1"
   ]
  },
  {
   "cell_type": "code",
   "execution_count": 383,
   "id": "4cfe87a5",
   "metadata": {},
   "outputs": [
    {
     "data": {
      "text/plain": [
       "np.float64(49.573921259900864)"
      ]
     },
     "execution_count": 383,
     "metadata": {},
     "output_type": "execute_result"
    }
   ],
   "source": [
    "v1 = np.array([2,8])\n",
    "v2 = np.array([-5,7])\n",
    "ang = np.rad2deg(np.arccos( np.dot(v1,v2) / (np.linalg.norm(v1)*np.linalg.norm(v2))))\n",
    "ang"
   ]
  },
  {
   "cell_type": "code",
   "execution_count": null,
   "id": "52a7e907",
   "metadata": {},
   "outputs": [
    {
     "data": {
      "text/plain": [
       "array([[ 4,  5,  6],\n",
       "       [ 8, 10, 12],\n",
       "       [12, 15, 18]])"
      ]
     },
     "execution_count": 386,
     "metadata": {},
     "output_type": "execute_result"
    }
   ],
   "source": [
    "v1 = np.array([1,2,3])\n",
    "v2 = np.array([4,5,6])\n",
    "np.outer(v1,v2)"
   ]
  },
  {
   "cell_type": "code",
   "execution_count": null,
   "id": "4ae782e2",
   "metadata": {},
   "outputs": [
    {
     "data": {
      "text/plain": [
       "np.int64(32)"
      ]
     },
     "execution_count": 387,
     "metadata": {},
     "output_type": "execute_result"
    }
   ],
   "source": [
    "np.inner(v1,v2)"
   ]
  },
  {
   "cell_type": "code",
   "execution_count": 388,
   "id": "1301a635",
   "metadata": {},
   "outputs": [
    {
     "data": {
      "text/plain": [
       "array([-3,  6, -3])"
      ]
     },
     "execution_count": 388,
     "metadata": {},
     "output_type": "execute_result"
    }
   ],
   "source": [
    "v1 = np.array([1,2,3])\n",
    "v2 = np.array([4,5,6])\n",
    "np.cross(v1,v2)"
   ]
  },
  {
   "cell_type": "code",
   "execution_count": 389,
   "id": "20db10d0",
   "metadata": {},
   "outputs": [
    {
     "data": {
      "text/plain": [
       "array([[ 1,  2,  3,  4],\n",
       "       [ 5,  6,  7,  8],\n",
       "       [10, 11, 12, 13],\n",
       "       [14, 15, 16, 17]])"
      ]
     },
     "execution_count": 389,
     "metadata": {},
     "output_type": "execute_result"
    }
   ],
   "source": [
    "A = np.array([[1,2,3,4] , [5,6,7,8] , [10 , 11 , 12 ,13] , [14,15,16,17]])\n",
    "A"
   ]
  },
  {
   "cell_type": "code",
   "execution_count": 390,
   "id": "652c07f4",
   "metadata": {},
   "outputs": [
    {
     "data": {
      "text/plain": [
       "dtype('int64')"
      ]
     },
     "execution_count": 390,
     "metadata": {},
     "output_type": "execute_result"
    }
   ],
   "source": [
    "A.dtype"
   ]
  },
  {
   "cell_type": "code",
   "execution_count": 391,
   "id": "88397afd",
   "metadata": {},
   "outputs": [
    {
     "data": {
      "text/plain": [
       "array([[ 1.5,  2.7,  3. ,  4. ],\n",
       "       [ 5. ,  6. ,  7. ,  8. ],\n",
       "       [10. , 11.2, 12.5, 13. ],\n",
       "       [14. , 15. , 16. , 17. ]])"
      ]
     },
     "execution_count": 391,
     "metadata": {},
     "output_type": "execute_result"
    }
   ],
   "source": [
    "B=np.array([[1.5,2.7,3,4], [5,6,7,8] , [10,11.2,12.5,13.0] , [14,15,16,17]])\n",
    "B"
   ]
  },
  {
   "cell_type": "code",
   "execution_count": 392,
   "id": "c03ea536",
   "metadata": {},
   "outputs": [
    {
     "data": {
      "text/plain": [
       "dtype('float64')"
      ]
     },
     "execution_count": 392,
     "metadata": {},
     "output_type": "execute_result"
    }
   ],
   "source": [
    "B.dtype"
   ]
  },
  {
   "cell_type": "code",
   "execution_count": 393,
   "id": "03d9091f",
   "metadata": {},
   "outputs": [
    {
     "data": {
      "text/plain": [
       "(4, 4)"
      ]
     },
     "execution_count": 393,
     "metadata": {},
     "output_type": "execute_result"
    }
   ],
   "source": [
    "A.shape"
   ]
  },
  {
   "cell_type": "code",
   "execution_count": 398,
   "id": "72f36578",
   "metadata": {},
   "outputs": [
    {
     "data": {
      "text/plain": [
       "array([[0., 0., 0., 0.],\n",
       "       [0., 0., 0., 0.],\n",
       "       [0., 0., 0., 0.],\n",
       "       [0., 0., 0., 0.]])"
      ]
     },
     "execution_count": 398,
     "metadata": {},
     "output_type": "execute_result"
    }
   ],
   "source": [
    "z1=np.zeros((4,4))\n",
    "z1"
   ]
  },
  {
   "cell_type": "code",
   "execution_count": 400,
   "id": "73fb9e0d",
   "metadata": {},
   "outputs": [
    {
     "data": {
      "text/plain": [
       "array([[1., 1., 1., 1., 1.],\n",
       "       [1., 1., 1., 1., 1.],\n",
       "       [1., 1., 1., 1., 1.],\n",
       "       [1., 1., 1., 1., 1.],\n",
       "       [1., 1., 1., 1., 1.]])"
      ]
     },
     "execution_count": 400,
     "metadata": {},
     "output_type": "execute_result"
    }
   ],
   "source": [
    "np.ones((5,5))"
   ]
  },
  {
   "cell_type": "code",
   "execution_count": 401,
   "id": "ab58b1d6",
   "metadata": {},
   "outputs": [
    {
     "data": {
      "text/plain": [
       "array([[  3, 395, 259, 243, 222, 262, 265,  87,  14, 486],\n",
       "       [467, 377, 198, 140, 438,  27, 294, 401, 445, 366],\n",
       "       [330, 355, 116,  99, 193, 303, 493,  16, 133, 360],\n",
       "       [109,  86,  46, 271, 315, 296, 409, 301, 433, 256],\n",
       "       [419, 413, 385, 467, 324, 414, 391, 349, 486,  60],\n",
       "       [321, 372, 254, 460, 323, 300, 307, 135, 486,  88],\n",
       "       [454, 141, 412, 364, 319, 340, 420, 119, 496, 480],\n",
       "       [377, 424, 472, 372, 250, 447,  58, 493,  77,   8],\n",
       "       [206, 390,  65, 222, 198,  40, 375, 458,  76, 460],\n",
       "       [153, 490, 123, 497, 135, 269, 428, 251, 257, 247]])"
      ]
     },
     "execution_count": 401,
     "metadata": {},
     "output_type": "execute_result"
    }
   ],
   "source": [
    "np.random.randint(0,500 , (10,10))"
   ]
  },
  {
   "cell_type": "code",
   "execution_count": 404,
   "id": "b94efac2",
   "metadata": {},
   "outputs": [
    {
     "data": {
      "text/plain": [
       "array([[681, 206, 440, 471, 575, 481, 515,  17,  88, 750],\n",
       "       [215, 197, 609, 562, 357, 130, 658, 814, 557, 953],\n",
       "       [931, 530, 475, 686, 950, 503,  73, 977, 574, 707],\n",
       "       [651, 410,  92, 459, 906, 899, 557, 634, 442, 187],\n",
       "       [407, 281, 795, 441, 622, 507, 259, 611, 718, 341],\n",
       "       [955, 502, 432, 312, 983, 855, 612, 900, 325, 112],\n",
       "       [312, 572, 649, 194, 997, 673,  69, 636, 393, 207],\n",
       "       [251, 540, 322,  10, 740, 771, 944, 771, 791, 731],\n",
       "       [695, 290, 293, 305, 855, 853, 665, 401, 186, 194],\n",
       "       [301,  10, 136, 757, 992, 281, 355, 579, 627, 321]])"
      ]
     },
     "execution_count": 404,
     "metadata": {},
     "output_type": "execute_result"
    }
   ],
   "source": [
    "mat1 = np.random.randint(0,1000,100).reshape(10,10)\n",
    "mat1"
   ]
  },
  {
   "cell_type": "code",
   "execution_count": 405,
   "id": "2fd85c3f",
   "metadata": {},
   "outputs": [
    {
     "data": {
      "text/plain": [
       "np.int64(681)"
      ]
     },
     "execution_count": 405,
     "metadata": {},
     "output_type": "execute_result"
    }
   ],
   "source": [
    "mat1[0,0]"
   ]
  },
  {
   "cell_type": "code",
   "execution_count": 406,
   "id": "5f77d52f",
   "metadata": {},
   "outputs": [
    {
     "data": {
      "text/plain": [
       "array([681, 575, 515, 750, 609, 562, 658, 814, 557, 953, 931, 530, 686,\n",
       "       950, 503, 977, 574, 707, 651, 906, 899, 557, 634, 795, 622, 507,\n",
       "       611, 718, 955, 502, 983, 855, 612, 900, 572, 649, 997, 673, 636,\n",
       "       540, 740, 771, 944, 771, 791, 731, 695, 855, 853, 665, 757, 992,\n",
       "       579, 627])"
      ]
     },
     "execution_count": 406,
     "metadata": {},
     "output_type": "execute_result"
    }
   ],
   "source": [
    "mat1[mat1 > 500]"
   ]
  },
  {
   "cell_type": "code",
   "execution_count": 407,
   "id": "0db83899",
   "metadata": {},
   "outputs": [
    {
     "data": {
      "text/plain": [
       "array([[1., 0., 0., 0.],\n",
       "       [0., 1., 0., 0.],\n",
       "       [0., 0., 1., 0.],\n",
       "       [0., 0., 0., 1.]])"
      ]
     },
     "execution_count": 407,
     "metadata": {},
     "output_type": "execute_result"
    }
   ],
   "source": [
    "I = np.eye(4)\n",
    "I"
   ]
  },
  {
   "cell_type": "code",
   "execution_count": 408,
   "id": "a06fe124",
   "metadata": {},
   "outputs": [
    {
     "data": {
      "text/plain": [
       "array([[1, 0, 0, 0, 0, 0, 0, 0],\n",
       "       [0, 2, 0, 0, 0, 0, 0, 0],\n",
       "       [0, 0, 3, 0, 0, 0, 0, 0],\n",
       "       [0, 0, 0, 4, 0, 0, 0, 0],\n",
       "       [0, 0, 0, 0, 5, 0, 0, 0],\n",
       "       [0, 0, 0, 0, 0, 6, 0, 0],\n",
       "       [0, 0, 0, 0, 0, 0, 7, 0],\n",
       "       [0, 0, 0, 0, 0, 0, 0, 8]])"
      ]
     },
     "execution_count": 408,
     "metadata": {},
     "output_type": "execute_result"
    }
   ],
   "source": [
    "D = np.diag([1,2,3,4,5,6,7,8])\n",
    "D"
   ]
  },
  {
   "cell_type": "code",
   "execution_count": 413,
   "id": "5186234b",
   "metadata": {},
   "outputs": [
    {
     "name": "stdout",
     "output_type": "stream",
     "text": [
      "lower triangular matrix - \n",
      " [[ 1.61219304  0.89605831  0.36961959 -0.76129424  0.00364515]\n",
      " [-1.25566869 -0.55193688 -0.24520334 -0.36163993  0.95660193]\n",
      " [-1.41872591 -0.86543227 -1.37468797 -1.23735321  0.1240559 ]\n",
      " [-1.60044053  0.75386878 -0.24681578  0.06878833  0.32257674]\n",
      " [-0.43416652  1.03247972 -0.19434273  0.59407026 -0.19911238]]\n",
      "\n",
      "\n",
      "lower triangular matrix - \n",
      " [[ 1.61219304  0.          0.          0.          0.        ]\n",
      " [-1.25566869 -0.55193688  0.          0.          0.        ]\n",
      " [-1.41872591 -0.86543227 -1.37468797  0.          0.        ]\n",
      " [-1.60044053  0.75386878 -0.24681578  0.06878833  0.        ]\n",
      " [-0.43416652  1.03247972 -0.19434273  0.59407026 -0.19911238]]\n",
      "\n",
      "\n",
      "Upper triangular matrix - \n",
      " [[ 1.61219304  0.89605831  0.36961959 -0.76129424  0.00364515]\n",
      " [ 0.         -0.55193688 -0.24520334 -0.36163993  0.95660193]\n",
      " [ 0.          0.         -1.37468797 -1.23735321  0.1240559 ]\n",
      " [ 0.          0.          0.          0.06878833  0.32257674]\n",
      " [ 0.          0.          0.          0.         -0.19911238]]\n"
     ]
    }
   ],
   "source": [
    "M=np.random.randn(5,5)\n",
    "U=np.triu(M)\n",
    "L=np.tril(M)\n",
    "print(\"lower triangular matrix - \\n\" , M)\n",
    "print(\"\\n\")\n",
    "\n",
    "\n",
    "print(\"lower triangular matrix - \\n\" , L)\n",
    "print(\"\\n\")\n",
    "\n",
    "print(\"Upper triangular matrix - \\n\" , U)"
   ]
  },
  {
   "cell_type": "code",
   "execution_count": 414,
   "id": "b00d8fec",
   "metadata": {},
   "outputs": [
    {
     "data": {
      "text/plain": [
       "array([[8, 8, 8, 8, 8],\n",
       "       [8, 8, 8, 8, 8],\n",
       "       [8, 8, 8, 8, 8],\n",
       "       [8, 8, 8, 8, 8],\n",
       "       [8, 8, 8, 8, 8]])"
      ]
     },
     "execution_count": 414,
     "metadata": {},
     "output_type": "execute_result"
    }
   ],
   "source": [
    "np.full((5,5) , 8)"
   ]
  },
  {
   "cell_type": "code",
   "execution_count": 415,
   "id": "24477978",
   "metadata": {},
   "outputs": [
    {
     "data": {
      "text/plain": [
       "array([[11.48777656, 19.40029015, 18.32716197, 18.46054838, 11.2392301 ],\n",
       "       [15.96486898, 10.16392481, 17.21184366, 10.07737514, 10.84822277],\n",
       "       [12.2549841 , 18.75124534, 13.63576318, 15.39959935, 15.68103214],\n",
       "       [12.2546336 , 15.72146768, 16.60951795, 12.98245393, 14.18626859],\n",
       "       [14.53088925, 19.32350662, 15.87493747, 19.48252372, 15.56034754]])"
      ]
     },
     "execution_count": 415,
     "metadata": {},
     "output_type": "execute_result"
    }
   ],
   "source": [
    "np.random.uniform(10,20, size=(5,5))"
   ]
  },
  {
   "cell_type": "code",
   "execution_count": 416,
   "id": "3f380d0e",
   "metadata": {},
   "outputs": [
    {
     "data": {
      "text/plain": [
       "array([[ 1,  2,  3,  4],\n",
       "       [ 5,  6,  7,  8],\n",
       "       [10, 11, 12, 13],\n",
       "       [14, 15, 16, 17]])"
      ]
     },
     "execution_count": 416,
     "metadata": {},
     "output_type": "execute_result"
    }
   ],
   "source": [
    "A"
   ]
  },
  {
   "cell_type": "code",
   "execution_count": 417,
   "id": "7e35274a",
   "metadata": {},
   "outputs": [
    {
     "data": {
      "text/plain": [
       "array([ 1,  2,  3,  4,  5,  6,  7,  8, 10, 11, 12, 13, 14, 15, 16, 17])"
      ]
     },
     "execution_count": 417,
     "metadata": {},
     "output_type": "execute_result"
    }
   ],
   "source": [
    "A.flatten()"
   ]
  },
  {
   "cell_type": "code",
   "execution_count": 418,
   "id": "a4cc8228",
   "metadata": {},
   "outputs": [
    {
     "data": {
      "text/plain": [
       "array([ 1,  2,  3,  4,  5,  6,  7,  8, 10, 11, 12, 13, 14, 15, 16, 17])"
      ]
     },
     "execution_count": 418,
     "metadata": {},
     "output_type": "execute_result"
    }
   ],
   "source": [
    "A.ravel()"
   ]
  },
  {
   "cell_type": "code",
   "execution_count": 420,
   "id": "cf410350",
   "metadata": {},
   "outputs": [
    {
     "data": {
      "text/plain": [
       "array([[ 0,  1,  2,  3],\n",
       "       [ 4,  5,  6,  7],\n",
       "       [ 8,  9, 10, 11],\n",
       "       [12, 13, 14, 15]])"
      ]
     },
     "execution_count": 420,
     "metadata": {},
     "output_type": "execute_result"
    }
   ],
   "source": [
    "arr = np.arange(16).reshape(4,4)\n",
    "arr"
   ]
  },
  {
   "cell_type": "code",
   "execution_count": 421,
   "id": "42b0d43b",
   "metadata": {},
   "outputs": [
    {
     "data": {
      "text/plain": [
       "array([[12, 13, 14, 15],\n",
       "       [ 8,  9, 10, 11],\n",
       "       [ 4,  5,  6,  7],\n",
       "       [ 0,  1,  2,  3]])"
      ]
     },
     "execution_count": 421,
     "metadata": {},
     "output_type": "execute_result"
    }
   ],
   "source": [
    "arr[::-1]"
   ]
  },
  {
   "cell_type": "code",
   "execution_count": 422,
   "id": "62eaae09",
   "metadata": {},
   "outputs": [
    {
     "data": {
      "text/plain": [
       "array([[ 3,  2,  1,  0],\n",
       "       [ 7,  6,  5,  4],\n",
       "       [11, 10,  9,  8],\n",
       "       [15, 14, 13, 12]])"
      ]
     },
     "execution_count": 422,
     "metadata": {},
     "output_type": "execute_result"
    }
   ],
   "source": [
    "arr[:, ::-1]"
   ]
  },
  {
   "cell_type": "code",
   "execution_count": 423,
   "id": "ff82c418",
   "metadata": {},
   "outputs": [
    {
     "data": {
      "text/plain": [
       "array([[ 0,  1,  2,  3],\n",
       "       [ 4,  5,  6,  7],\n",
       "       [ 8,  9, 10, 11],\n",
       "       [12, 13, 14, 15]])"
      ]
     },
     "execution_count": 423,
     "metadata": {},
     "output_type": "execute_result"
    }
   ],
   "source": [
    "m1 = np.arange(0,16).reshape(4,4)\n",
    "m1"
   ]
  },
  {
   "cell_type": "code",
   "execution_count": 424,
   "id": "8543c27e",
   "metadata": {},
   "outputs": [
    {
     "data": {
      "text/plain": [
       "array([[ 4,  5,  6,  7],\n",
       "       [ 0,  1,  2,  3],\n",
       "       [ 8,  9, 10, 11],\n",
       "       [12, 13, 14, 15]])"
      ]
     },
     "execution_count": 424,
     "metadata": {},
     "output_type": "execute_result"
    }
   ],
   "source": [
    "m1[[0,1]]=m1[[1,0]]\n",
    "m1"
   ]
  },
  {
   "cell_type": "code",
   "execution_count": 425,
   "id": "99378595",
   "metadata": {},
   "outputs": [
    {
     "data": {
      "text/plain": [
       "array([[ 4,  5,  6,  7],\n",
       "       [ 0,  1,  2,  3],\n",
       "       [12, 13, 14, 15],\n",
       "       [ 8,  9, 10, 11]])"
      ]
     },
     "execution_count": 425,
     "metadata": {},
     "output_type": "execute_result"
    }
   ],
   "source": [
    "m1[[3,2]]=m1[[2,3]]\n",
    "m1"
   ]
  },
  {
   "cell_type": "code",
   "execution_count": 426,
   "id": "5822acec",
   "metadata": {},
   "outputs": [
    {
     "data": {
      "text/plain": [
       "array([[ 0,  1,  2,  3,  4,  5],\n",
       "       [ 6,  7,  8,  9, 10, 11],\n",
       "       [12, 13, 14, 15, 16, 17],\n",
       "       [18, 19, 20, 21, 22, 23],\n",
       "       [24, 25, 26, 27, 28, 29],\n",
       "       [30, 31, 32, 33, 34, 35]])"
      ]
     },
     "execution_count": 426,
     "metadata": {},
     "output_type": "execute_result"
    }
   ],
   "source": [
    "m2 = np.arange(0,36).reshape(6,6)\n",
    "m2"
   ]
  },
  {
   "cell_type": "code",
   "execution_count": 427,
   "id": "0da02e3d",
   "metadata": {},
   "outputs": [
    {
     "data": {
      "text/plain": [
       "array([[ 1,  0,  2,  3,  4,  5],\n",
       "       [ 7,  6,  8,  9, 10, 11],\n",
       "       [13, 12, 14, 15, 16, 17],\n",
       "       [19, 18, 20, 21, 22, 23],\n",
       "       [25, 24, 26, 27, 28, 29],\n",
       "       [31, 30, 32, 33, 34, 35]])"
      ]
     },
     "execution_count": 427,
     "metadata": {},
     "output_type": "execute_result"
    }
   ],
   "source": [
    "m2[:,[0, 1]] = m2[:,[1, 0]]\n",
    "m2"
   ]
  },
  {
   "cell_type": "code",
   "execution_count": 428,
   "id": "88f7459e",
   "metadata": {},
   "outputs": [
    {
     "data": {
      "text/plain": [
       "array([[ 1,  0,  3,  2,  4,  5],\n",
       "       [ 7,  6,  9,  8, 10, 11],\n",
       "       [13, 12, 15, 14, 16, 17],\n",
       "       [19, 18, 21, 20, 22, 23],\n",
       "       [25, 24, 27, 26, 28, 29],\n",
       "       [31, 30, 33, 32, 34, 35]])"
      ]
     },
     "execution_count": 428,
     "metadata": {},
     "output_type": "execute_result"
    }
   ],
   "source": [
    "m2[:,[2, 3]] = m2[:,[3, 2]]\n",
    "m2"
   ]
  },
  {
   "cell_type": "code",
   "execution_count": 430,
   "id": "dc39a4a7",
   "metadata": {},
   "outputs": [
    {
     "data": {
      "text/plain": [
       "array([[1, 2],\n",
       "       [3, 4],\n",
       "       [5, 6],\n",
       "       [1, 1],\n",
       "       [1, 1]])"
      ]
     },
     "execution_count": 430,
     "metadata": {},
     "output_type": "execute_result"
    }
   ],
   "source": [
    "A = np.array([[1,2] , [3,4] ,[5,6]])\n",
    "B = np.array([[1,1] , [1,1]])\n",
    "C=np.concatenate((A,B))\n",
    "C"
   ]
  },
  {
   "cell_type": "code",
   "execution_count": 431,
   "id": "b339fb85",
   "metadata": {},
   "outputs": [
    {
     "name": "stdout",
     "output_type": "stream",
     "text": [
      "\n",
      " First Matrix (M)  ==>  \n",
      " [[ 1  2  3]\n",
      " [ 4 -3  6]\n",
      " [ 7  8  0]]\n",
      "\n",
      " Second Matrix (N)  ==>  \n",
      " [[1 1 1]\n",
      " [2 2 2]\n",
      " [3 3 3]]\n",
      "\n",
      " Matrix Addition (M+N)  ==>  \n",
      " [[ 2  3  4]\n",
      " [ 6 -1  8]\n",
      " [10 11  3]]\n"
     ]
    }
   ],
   "source": [
    "M = np.array([[1,2,3],[4,-3,6],[7,8,0]])\n",
    "N = np.array([[1,1,1],[2,2,2],[3,3,3]])\n",
    "\n",
    "print(\"\\n First Matrix (M)  ==>  \\n\", M)\n",
    "print(\"\\n Second Matrix (N)  ==>  \\n\", N)\n",
    "\n",
    "C = M+N\n",
    "print(\"\\n Matrix Addition (M+N)  ==>  \\n\", C)"
   ]
  },
  {
   "cell_type": "code",
   "execution_count": 432,
   "id": "f0cdbef6",
   "metadata": {},
   "outputs": [
    {
     "name": "stdout",
     "output_type": "stream",
     "text": [
      "\n",
      " Matrix Addition using np.add  ==>  \n",
      " [[ 2  3  4]\n",
      " [ 6 -1  8]\n",
      " [10 11  3]]\n"
     ]
    }
   ],
   "source": [
    "c=np.add(M,N,dtype=np.float64)\n",
    "print(\"\\n Matrix Addition using np.add  ==>  \\n\", C)"
   ]
  },
  {
   "cell_type": "code",
   "execution_count": 433,
   "id": "1b18dc8d",
   "metadata": {},
   "outputs": [
    {
     "name": "stdout",
     "output_type": "stream",
     "text": [
      "\n",
      " First Matrix (M)  ==>  \n",
      " [[ 1  2  3]\n",
      " [ 4 -3  6]\n",
      " [ 7  8  0]]\n",
      "\n",
      " Second Matrix (N)  ==>  \n",
      " [[1 1 1]\n",
      " [2 2 2]\n",
      " [3 3 3]]\n",
      "\n",
      " Matrix Subtraction (M-N)  ==>  \n",
      " [[ 0  1  2]\n",
      " [ 2 -5  4]\n",
      " [ 4  5 -3]]\n"
     ]
    }
   ],
   "source": [
    "M = np.array([[1,2,3],[4,-3,6],[7,8,0]])\n",
    "N = np.array([[1,1,1],[2,2,2],[3,3,3]])\n",
    "\n",
    "print(\"\\n First Matrix (M)  ==>  \\n\", M)\n",
    "print(\"\\n Second Matrix (N)  ==>  \\n\", N)\n",
    "\n",
    "C = M-N\n",
    "print(\"\\n Matrix Subtraction (M-N)  ==>  \\n\", C)"
   ]
  },
  {
   "cell_type": "code",
   "execution_count": 434,
   "id": "4cfad018",
   "metadata": {},
   "outputs": [
    {
     "name": "stdout",
     "output_type": "stream",
     "text": [
      "\n",
      " Matrix Subtraction using np.subtract  ==>  \n",
      " [[ 0.  1.  2.]\n",
      " [ 2. -5.  4.]\n",
      " [ 4.  5. -3.]]\n"
     ]
    }
   ],
   "source": [
    "C = np.subtract(M,N,dtype = np.float64)\n",
    "print(\"\\n Matrix Subtraction using np.subtract  ==>  \\n\", C)"
   ]
  },
  {
   "cell_type": "code",
   "execution_count": 435,
   "id": "ec8250dd",
   "metadata": {},
   "outputs": [
    {
     "data": {
      "text/plain": [
       "array([[ 10,  20,  30],\n",
       "       [ 40, -30,  60],\n",
       "       [ 70,  80,   0]])"
      ]
     },
     "execution_count": 435,
     "metadata": {},
     "output_type": "execute_result"
    }
   ],
   "source": [
    "M = np.array([[1,2,3],[4,-3,6],[7,8,0]])\n",
    "C=10\n",
    "D=C*M\n",
    "D"
   ]
  },
  {
   "cell_type": "code",
   "execution_count": 436,
   "id": "9bd940fd",
   "metadata": {},
   "outputs": [
    {
     "data": {
      "text/plain": [
       "array([[ 1,  4,  7],\n",
       "       [ 2, -3,  8],\n",
       "       [ 3,  6,  0]])"
      ]
     },
     "execution_count": 436,
     "metadata": {},
     "output_type": "execute_result"
    }
   ],
   "source": [
    "M = np.array([[1,2,3],[4,-3,6],[7,8,0]])\n",
    "np.transpose(M)"
   ]
  },
  {
   "cell_type": "code",
   "execution_count": 437,
   "id": "fad5dd51",
   "metadata": {},
   "outputs": [
    {
     "data": {
      "text/plain": [
       "np.float64(195.0)"
      ]
     },
     "execution_count": 437,
     "metadata": {},
     "output_type": "execute_result"
    }
   ],
   "source": [
    "M = np.array([[1,2,3],[4,-3,6],[7,8,0]])\n",
    "np.linalg.det(M)"
   ]
  },
  {
   "cell_type": "code",
   "execution_count": 438,
   "id": "370d8eb8",
   "metadata": {},
   "outputs": [
    {
     "data": {
      "text/plain": [
       "np.int64(3)"
      ]
     },
     "execution_count": 438,
     "metadata": {},
     "output_type": "execute_result"
    }
   ],
   "source": [
    "M = np.array([[1,2,3],[4,-3,6],[7,8,0]])\n",
    "np.linalg.matrix_rank(M)"
   ]
  },
  {
   "cell_type": "code",
   "execution_count": 439,
   "id": "a8ac05a0",
   "metadata": {},
   "outputs": [
    {
     "data": {
      "text/plain": [
       "np.int64(-2)"
      ]
     },
     "execution_count": 439,
     "metadata": {},
     "output_type": "execute_result"
    }
   ],
   "source": [
    "M = np.array([[1,2,3],[4,-3,6],[7,8,0]])\n",
    "np.trace(M)"
   ]
  },
  {
   "cell_type": "code",
   "execution_count": 440,
   "id": "c8d53fbe",
   "metadata": {},
   "outputs": [
    {
     "data": {
      "text/plain": [
       "array([[-0.24615385,  0.12307692,  0.10769231],\n",
       "       [ 0.21538462, -0.10769231,  0.03076923],\n",
       "       [ 0.27179487,  0.03076923, -0.05641026]])"
      ]
     },
     "execution_count": 440,
     "metadata": {},
     "output_type": "execute_result"
    }
   ],
   "source": [
    "M = np.array([[1,2,3],[4,-3,6],[7,8,0]])\n",
    "np.linalg.inv(M)"
   ]
  },
  {
   "cell_type": "code",
   "execution_count": 441,
   "id": "1cc3e43a",
   "metadata": {},
   "outputs": [
    {
     "data": {
      "text/plain": [
       "array([[ 1,  2,  3],\n",
       "       [ 8, -6, 12],\n",
       "       [21, 24,  0]])"
      ]
     },
     "execution_count": 441,
     "metadata": {},
     "output_type": "execute_result"
    }
   ],
   "source": [
    "M = np.array([[1,2,3],[4,-3,6],[7,8,0]])\n",
    "N = np.array([[1,1,1],[2,2,2],[3,3,3]])\n",
    "G=M*N\n",
    "G"
   ]
  },
  {
   "cell_type": "code",
   "execution_count": 442,
   "id": "f94cbd3a",
   "metadata": {},
   "outputs": [
    {
     "data": {
      "text/plain": [
       "array([[ 1,  2,  3],\n",
       "       [ 8, -6, 12],\n",
       "       [21, 24,  0]])"
      ]
     },
     "execution_count": 442,
     "metadata": {},
     "output_type": "execute_result"
    }
   ],
   "source": [
    "np.multiply(M,N)"
   ]
  },
  {
   "cell_type": "code",
   "execution_count": 443,
   "id": "d4ee30ce",
   "metadata": {},
   "outputs": [
    {
     "data": {
      "text/plain": [
       "array([[14, 14, 14],\n",
       "       [16, 16, 16],\n",
       "       [23, 23, 23]])"
      ]
     },
     "execution_count": 443,
     "metadata": {},
     "output_type": "execute_result"
    }
   ],
   "source": [
    "F=M@N\n",
    "F"
   ]
  },
  {
   "cell_type": "code",
   "execution_count": 444,
   "id": "346839a4",
   "metadata": {},
   "outputs": [
    {
     "data": {
      "text/plain": [
       "array([[14, 14, 14],\n",
       "       [16, 16, 16],\n",
       "       [23, 23, 23]])"
      ]
     },
     "execution_count": 444,
     "metadata": {},
     "output_type": "execute_result"
    }
   ],
   "source": [
    "np.matmul(M,N)"
   ]
  },
  {
   "cell_type": "code",
   "execution_count": 445,
   "id": "9f5e96a8",
   "metadata": {},
   "outputs": [
    {
     "data": {
      "text/plain": [
       "array([[14, 14, 14],\n",
       "       [16, 16, 16],\n",
       "       [23, 23, 23]])"
      ]
     },
     "execution_count": 445,
     "metadata": {},
     "output_type": "execute_result"
    }
   ],
   "source": [
    "np.dot(M,N)"
   ]
  },
  {
   "cell_type": "code",
   "execution_count": 446,
   "id": "ee285285",
   "metadata": {},
   "outputs": [
    {
     "data": {
      "text/plain": [
       "array([[ 1.        ,  2.        ,  3.        ],\n",
       "       [ 2.        , -1.5       ,  3.        ],\n",
       "       [ 2.33333333,  2.66666667,  0.        ]])"
      ]
     },
     "execution_count": 446,
     "metadata": {},
     "output_type": "execute_result"
    }
   ],
   "source": [
    "E=M/N\n",
    "E"
   ]
  },
  {
   "cell_type": "code",
   "execution_count": 447,
   "id": "6e05ae02",
   "metadata": {},
   "outputs": [
    {
     "data": {
      "text/plain": [
       "array([[ 1.        ,  2.        ,  3.        ],\n",
       "       [ 2.        , -1.5       ,  3.        ],\n",
       "       [ 2.33333333,  2.66666667,  0.        ]])"
      ]
     },
     "execution_count": 447,
     "metadata": {},
     "output_type": "execute_result"
    }
   ],
   "source": [
    "np.divide(M,N)"
   ]
  },
  {
   "cell_type": "code",
   "execution_count": 448,
   "id": "18cf4465",
   "metadata": {},
   "outputs": [
    {
     "data": {
      "text/plain": [
       "np.int64(18)"
      ]
     },
     "execution_count": 448,
     "metadata": {},
     "output_type": "execute_result"
    }
   ],
   "source": [
    "np.sum(N)"
   ]
  },
  {
   "cell_type": "code",
   "execution_count": 450,
   "id": "6aa4c5c4",
   "metadata": {},
   "outputs": [
    {
     "data": {
      "text/plain": [
       "array([6, 6, 6])"
      ]
     },
     "execution_count": 450,
     "metadata": {},
     "output_type": "execute_result"
    }
   ],
   "source": [
    "np.sum(N, axis=0)"
   ]
  },
  {
   "cell_type": "code",
   "execution_count": 451,
   "id": "dd42e059",
   "metadata": {},
   "outputs": [
    {
     "data": {
      "text/plain": [
       "array([3, 6, 9])"
      ]
     },
     "execution_count": 451,
     "metadata": {},
     "output_type": "execute_result"
    }
   ],
   "source": [
    "np.sum(N, axis=1)"
   ]
  },
  {
   "cell_type": "code",
   "execution_count": 452,
   "id": "584e9f6c",
   "metadata": {},
   "outputs": [
    {
     "data": {
      "text/plain": [
       "array([[1, 2, 3],\n",
       "       [4, 5, 6]])"
      ]
     },
     "execution_count": 452,
     "metadata": {},
     "output_type": "execute_result"
    }
   ],
   "source": [
    "M1 = np.array([[1,2,3] , [4,5,6]]) \n",
    "M1"
   ]
  },
  {
   "cell_type": "code",
   "execution_count": 453,
   "id": "79111e07",
   "metadata": {},
   "outputs": [
    {
     "data": {
      "text/plain": [
       "array([[10, 10, 10],\n",
       "       [10, 10, 10]])"
      ]
     },
     "execution_count": 453,
     "metadata": {},
     "output_type": "execute_result"
    }
   ],
   "source": [
    "M2 = np.array([[10,10,10],[10,10,10]])\n",
    "M2"
   ]
  },
  {
   "cell_type": "code",
   "execution_count": 454,
   "id": "b34f80f7",
   "metadata": {},
   "outputs": [
    {
     "data": {
      "text/plain": [
       "array([[10, 10, 10, 20, 20, 20, 30, 30, 30],\n",
       "       [10, 10, 10, 20, 20, 20, 30, 30, 30],\n",
       "       [40, 40, 40, 50, 50, 50, 60, 60, 60],\n",
       "       [40, 40, 40, 50, 50, 50, 60, 60, 60]])"
      ]
     },
     "execution_count": 454,
     "metadata": {},
     "output_type": "execute_result"
    }
   ],
   "source": [
    "np.kron(M1,M2)"
   ]
  },
  {
   "cell_type": "code",
   "execution_count": 456,
   "id": "1cf2e7fd",
   "metadata": {},
   "outputs": [
    {
     "data": {
      "text/plain": [
       "array([[1, 2],\n",
       "       [4, 5]])"
      ]
     },
     "execution_count": 456,
     "metadata": {},
     "output_type": "execute_result"
    }
   ],
   "source": [
    "M1 = np.array([[1,2],[4,5]])\n",
    "M1"
   ]
  },
  {
   "cell_type": "code",
   "execution_count": 457,
   "id": "3888c708",
   "metadata": {},
   "outputs": [
    {
     "data": {
      "text/plain": [
       "array([[ 57,  78],\n",
       "       [156, 213]])"
      ]
     },
     "execution_count": 457,
     "metadata": {},
     "output_type": "execute_result"
    }
   ],
   "source": [
    "M1@M1@M1"
   ]
  },
  {
   "cell_type": "code",
   "execution_count": 458,
   "id": "2c2e3f8e",
   "metadata": {},
   "outputs": [
    {
     "data": {
      "text/plain": [
       "array([[ 57,  78],\n",
       "       [156, 213]])"
      ]
     },
     "execution_count": 458,
     "metadata": {},
     "output_type": "execute_result"
    }
   ],
   "source": [
    "np.linalg.matrix_power(M1,3)"
   ]
  },
  {
   "cell_type": "code",
   "execution_count": 459,
   "id": "0f915990",
   "metadata": {},
   "outputs": [
    {
     "data": {
      "text/plain": [
       "array([[[  1,   2,   3],\n",
       "        [  4,   5,   6],\n",
       "        [  7,   8,   9]],\n",
       "\n",
       "       [[ 10,  20,  30],\n",
       "        [ 40,  50,  60],\n",
       "        [ 70,  80,  90]],\n",
       "\n",
       "       [[100, 200, 300],\n",
       "        [400, 500, 600],\n",
       "        [700, 800, 900]]])"
      ]
     },
     "execution_count": 459,
     "metadata": {},
     "output_type": "execute_result"
    }
   ],
   "source": [
    "T1 = np.array([\n",
    "  [[1,2,3],    [4,5,6],    [7,8,9]],\n",
    "  [[10,20,30], [40,50,60], [70,80,90]],\n",
    "  [[100,200,300], [400,500,600], [700,800,900]],\n",
    "  ])\n",
    "\n",
    "T1"
   ]
  },
  {
   "cell_type": "code",
   "execution_count": 461,
   "id": "99c00b36",
   "metadata": {},
   "outputs": [
    {
     "data": {
      "text/plain": [
       "array([[[0, 0, 0],\n",
       "        [0, 0, 0],\n",
       "        [0, 0, 0]],\n",
       "\n",
       "       [[1, 1, 1],\n",
       "        [2, 2, 2],\n",
       "        [3, 3, 3]],\n",
       "\n",
       "       [[2, 2, 2],\n",
       "        [2, 2, 2],\n",
       "        [2, 2, 2]]])"
      ]
     },
     "execution_count": 461,
     "metadata": {},
     "output_type": "execute_result"
    }
   ],
   "source": [
    "T2=np.array([\n",
    "    [[0,0,0],   [0,0,0], [0,0,0]],\n",
    "    [[1,1,1],   [2,2,2], [3,3,3]],\n",
    "    [[2,2,2] , [2,2,2] , [2,2,2]]\n",
    "])\n",
    "T2"
   ]
  },
  {
   "cell_type": "code",
   "execution_count": 463,
   "id": "856a5678",
   "metadata": {},
   "outputs": [
    {
     "data": {
      "text/plain": [
       "array([[[  1,   2,   3],\n",
       "        [  4,   5,   6],\n",
       "        [  7,   8,   9]],\n",
       "\n",
       "       [[ 11,  21,  31],\n",
       "        [ 42,  52,  62],\n",
       "        [ 73,  83,  93]],\n",
       "\n",
       "       [[102, 202, 302],\n",
       "        [402, 502, 602],\n",
       "        [702, 802, 902]]])"
      ]
     },
     "execution_count": 463,
     "metadata": {},
     "output_type": "execute_result"
    }
   ],
   "source": [
    "A=T1+T2\n",
    "A"
   ]
  },
  {
   "cell_type": "code",
   "execution_count": 464,
   "id": "51dcbe3b",
   "metadata": {},
   "outputs": [
    {
     "data": {
      "text/plain": [
       "array([[[  1,   2,   3],\n",
       "        [  4,   5,   6],\n",
       "        [  7,   8,   9]],\n",
       "\n",
       "       [[ 11,  21,  31],\n",
       "        [ 42,  52,  62],\n",
       "        [ 73,  83,  93]],\n",
       "\n",
       "       [[102, 202, 302],\n",
       "        [402, 502, 602],\n",
       "        [702, 802, 902]]])"
      ]
     },
     "execution_count": 464,
     "metadata": {},
     "output_type": "execute_result"
    }
   ],
   "source": [
    "np.add(T1,T2)"
   ]
  },
  {
   "cell_type": "code",
   "execution_count": 465,
   "id": "18847985",
   "metadata": {},
   "outputs": [
    {
     "data": {
      "text/plain": [
       "array([[[  1,   2,   3],\n",
       "        [  4,   5,   6],\n",
       "        [  7,   8,   9]],\n",
       "\n",
       "       [[  9,  19,  29],\n",
       "        [ 38,  48,  58],\n",
       "        [ 67,  77,  87]],\n",
       "\n",
       "       [[ 98, 198, 298],\n",
       "        [398, 498, 598],\n",
       "        [698, 798, 898]]])"
      ]
     },
     "execution_count": 465,
     "metadata": {},
     "output_type": "execute_result"
    }
   ],
   "source": [
    "S = T1-T2\n",
    "S"
   ]
  },
  {
   "cell_type": "code",
   "execution_count": 466,
   "id": "f2d9bf2c",
   "metadata": {},
   "outputs": [
    {
     "data": {
      "text/plain": [
       "array([[[  1,   2,   3],\n",
       "        [  4,   5,   6],\n",
       "        [  7,   8,   9]],\n",
       "\n",
       "       [[  9,  19,  29],\n",
       "        [ 38,  48,  58],\n",
       "        [ 67,  77,  87]],\n",
       "\n",
       "       [[ 98, 198, 298],\n",
       "        [398, 498, 598],\n",
       "        [698, 798, 898]]])"
      ]
     },
     "execution_count": 466,
     "metadata": {},
     "output_type": "execute_result"
    }
   ],
   "source": [
    "np.subtract(T1,T2)"
   ]
  },
  {
   "cell_type": "code",
   "execution_count": 467,
   "id": "300f3352",
   "metadata": {},
   "outputs": [
    {
     "data": {
      "text/plain": [
       "array([[[   0,    0,    0],\n",
       "        [   0,    0,    0],\n",
       "        [   0,    0,    0]],\n",
       "\n",
       "       [[  10,   20,   30],\n",
       "        [  80,  100,  120],\n",
       "        [ 210,  240,  270]],\n",
       "\n",
       "       [[ 200,  400,  600],\n",
       "        [ 800, 1000, 1200],\n",
       "        [1400, 1600, 1800]]])"
      ]
     },
     "execution_count": 467,
     "metadata": {},
     "output_type": "execute_result"
    }
   ],
   "source": [
    "P = T1*T2\n",
    "P"
   ]
  },
  {
   "cell_type": "code",
   "execution_count": 468,
   "id": "0f7cac88",
   "metadata": {},
   "outputs": [
    {
     "data": {
      "text/plain": [
       "array([[[   0,    0,    0],\n",
       "        [   0,    0,    0],\n",
       "        [   0,    0,    0]],\n",
       "\n",
       "       [[  10,   20,   30],\n",
       "        [  80,  100,  120],\n",
       "        [ 210,  240,  270]],\n",
       "\n",
       "       [[ 200,  400,  600],\n",
       "        [ 800, 1000, 1200],\n",
       "        [1400, 1600, 1800]]])"
      ]
     },
     "execution_count": 468,
     "metadata": {},
     "output_type": "execute_result"
    }
   ],
   "source": [
    "np.multiply(T1,T2)"
   ]
  },
  {
   "cell_type": "code",
   "execution_count": 469,
   "id": "b375b133",
   "metadata": {},
   "outputs": [
    {
     "data": {
      "text/plain": [
       "array([[[         inf,          inf,          inf],\n",
       "        [         inf,          inf,          inf],\n",
       "        [         inf,          inf,          inf]],\n",
       "\n",
       "       [[ 10.        ,  20.        ,  30.        ],\n",
       "        [ 20.        ,  25.        ,  30.        ],\n",
       "        [ 23.33333333,  26.66666667,  30.        ]],\n",
       "\n",
       "       [[ 50.        , 100.        , 150.        ],\n",
       "        [200.        , 250.        , 300.        ],\n",
       "        [350.        , 400.        , 450.        ]]])"
      ]
     },
     "execution_count": 469,
     "metadata": {},
     "output_type": "execute_result"
    }
   ],
   "source": [
    "D=T1/T2\n",
    "D"
   ]
  },
  {
   "cell_type": "code",
   "execution_count": 470,
   "id": "a9a31465",
   "metadata": {},
   "outputs": [
    {
     "data": {
      "text/plain": [
       "array([[[         inf,          inf,          inf],\n",
       "        [         inf,          inf,          inf],\n",
       "        [         inf,          inf,          inf]],\n",
       "\n",
       "       [[ 10.        ,  20.        ,  30.        ],\n",
       "        [ 20.        ,  25.        ,  30.        ],\n",
       "        [ 23.33333333,  26.66666667,  30.        ]],\n",
       "\n",
       "       [[ 50.        , 100.        , 150.        ],\n",
       "        [200.        , 250.        , 300.        ],\n",
       "        [350.        , 400.        , 450.        ]]])"
      ]
     },
     "execution_count": 470,
     "metadata": {},
     "output_type": "execute_result"
    }
   ],
   "source": [
    "np.divide(T1,T2)"
   ]
  },
  {
   "cell_type": "code",
   "execution_count": 471,
   "id": "f2e06009",
   "metadata": {},
   "outputs": [
    {
     "data": {
      "text/plain": [
       "array([[  80,   80,   80],\n",
       "       [ 800,  800,  800],\n",
       "       [8000, 8000, 8000]])"
      ]
     },
     "execution_count": 471,
     "metadata": {},
     "output_type": "execute_result"
    }
   ],
   "source": [
    "np.tensordot(T1,T2)"
   ]
  },
  {
   "cell_type": "code",
   "execution_count": 472,
   "id": "8e4ddf4f",
   "metadata": {},
   "outputs": [
    {
     "data": {
      "text/plain": [
       "array([[1, 2, 3],\n",
       "       [4, 5, 6],\n",
       "       [7, 8, 9]])"
      ]
     },
     "execution_count": 472,
     "metadata": {},
     "output_type": "execute_result"
    }
   ],
   "source": [
    "A = np.array([[1,2,3] , [4,5,6] , [7,8,9]])\n",
    "A"
   ]
  },
  {
   "cell_type": "code",
   "execution_count": 473,
   "id": "abded7ee",
   "metadata": {},
   "outputs": [
    {
     "data": {
      "text/plain": [
       "array([[0.50056142],\n",
       "       [0.00353221],\n",
       "       [0.48088904]])"
      ]
     },
     "execution_count": 473,
     "metadata": {},
     "output_type": "execute_result"
    }
   ],
   "source": [
    "B = np.random.random((3,1))\n",
    "B"
   ]
  },
  {
   "cell_type": "code",
   "execution_count": 478,
   "id": "f8003d21",
   "metadata": {},
   "outputs": [
    {
     "data": {
      "text/plain": [
       "array([[-0.17345351],\n",
       "       [-0.00109291],\n",
       "       [ 0.17126769]])"
      ]
     },
     "execution_count": 478,
     "metadata": {},
     "output_type": "execute_result"
    }
   ],
   "source": [
    "X = np.dot(np.linalg.pinv(A) , B)\n",
    "X"
   ]
  },
  {
   "cell_type": "code",
   "execution_count": 479,
   "id": "ab0986f5",
   "metadata": {},
   "outputs": [
    {
     "data": {
      "text/plain": [
       "array([[-0.17345351],\n",
       "       [-0.00109291],\n",
       "       [ 0.17126769]])"
      ]
     },
     "execution_count": 479,
     "metadata": {},
     "output_type": "execute_result"
    }
   ],
   "source": [
    "Y= np.matmul(np.linalg.pinv(A), B)\n",
    "Y"
   ]
  },
  {
   "cell_type": "code",
   "execution_count": 481,
   "id": "8a4d44be",
   "metadata": {},
   "outputs": [
    {
     "data": {
      "text/plain": [
       "array([[-0.17345351],\n",
       "       [-0.00109291],\n",
       "       [ 0.17126769]])"
      ]
     },
     "execution_count": 481,
     "metadata": {},
     "output_type": "execute_result"
    }
   ],
   "source": [
    "Z=np.linalg.pinv(A)@B\n",
    "Z"
   ]
  }
 ],
 "metadata": {
  "kernelspec": {
   "display_name": "Python 3 (ipykernel)",
   "language": "python",
   "name": "python3"
  },
  "language_info": {
   "codemirror_mode": {
    "name": "ipython",
    "version": 3
   },
   "file_extension": ".py",
   "mimetype": "text/x-python",
   "name": "python",
   "nbconvert_exporter": "python",
   "pygments_lexer": "ipython3",
   "version": "3.13.7"
  }
 },
 "nbformat": 4,
 "nbformat_minor": 5
}
